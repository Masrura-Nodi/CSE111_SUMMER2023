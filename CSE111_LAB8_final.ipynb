{
  "nbformat": 4,
  "nbformat_minor": 0,
  "metadata": {
    "colab": {
      "provenance": []
    },
    "kernelspec": {
      "name": "python3",
      "display_name": "Python 3"
    },
    "language_info": {
      "name": "python"
    }
  },
  "cells": [
    {
      "cell_type": "code",
      "execution_count": null,
      "metadata": {
        "colab": {
          "base_uri": "https://localhost:8080/"
        },
        "id": "mt0Cso58pr1o",
        "outputId": "ea9a60b0-39fc-4b49-c8bf-8887b4865504"
      },
      "outputs": [
        {
          "output_type": "stream",
          "name": "stdout",
          "text": [
            "RealPart: 1.0\n",
            "ImaginaryPart: 1.0\n",
            "---------\n",
            "RealPart: 5.0\n",
            "ImaginaryPart: 7.0\n"
          ]
        }
      ],
      "source": [
        "#Task1\n",
        "\n",
        "class RealNumber:\n",
        "    def __init__(self, r=0):\n",
        "        self.__realValue = r\n",
        "    def getRealValue(self):\n",
        "        return self.__realValue\n",
        "    def setRealValue(self, r):\n",
        "        self.__realValue = r\n",
        "    def __str__(self):\n",
        "        return 'RealPart: '+str(self.getRealValue())\n",
        "\n",
        "class ComplexNumber(RealNumber):\n",
        "    def __init__(self, r = 1.0, i = 1.0):\n",
        "        super().__init__(r)\n",
        "        self.ImaginaryPart = i\n",
        "    def __str__(self):\n",
        "         return (f\"RealPart: {str(float(self.getRealValue()))}\\nImaginaryPart: {str(float(self.ImaginaryPart))}\")\n",
        "\n",
        "cn1 = ComplexNumber()\n",
        "print(cn1)\n",
        "print('---------')\n",
        "cn2 = ComplexNumber(5,7)\n",
        "print(cn2)"
      ]
    },
    {
      "cell_type": "code",
      "source": [
        "#Task3\n",
        "\n",
        "class Account:\n",
        "    def __init__(self, balance):\n",
        "        self._balance = balance\n",
        "    def getBalance(self):\n",
        "        return self._balance\n",
        "\n",
        "class CheckingAccount(Account):\n",
        "    numberOfAccount = 0\n",
        "    def __init__(self, balance = 0.0):\n",
        "        super().__init__(balance)\n",
        "        CheckingAccount.numberOfAccount += 1\n",
        "    def __str__(self):\n",
        "        return f\"Account Balance: {str(self.getBalance())}\"\n",
        "\n",
        "print('Number of Checking Accounts: ', CheckingAccount.numberOfAccount)\n",
        "print(CheckingAccount())\n",
        "print(CheckingAccount(100.00))\n",
        "print(CheckingAccount(200.00))\n",
        "print('Number of Checking Accounts: ', CheckingAccount.numberOfAccount)"
      ],
      "metadata": {
        "colab": {
          "base_uri": "https://localhost:8080/"
        },
        "id": "j7MuKDTxv2D6",
        "outputId": "da5b18ba-88bb-44be-fe62-958dafdb3168"
      },
      "execution_count": null,
      "outputs": [
        {
          "output_type": "stream",
          "name": "stdout",
          "text": [
            "Number of Checking Accounts:  0\n",
            "Account Balance: 0.0\n",
            "Account Balance: 100.0\n",
            "Account Balance: 200.0\n",
            "Number of Checking Accounts:  3\n"
          ]
        }
      ]
    },
    {
      "cell_type": "code",
      "source": [
        "#Task4\n",
        "\n",
        "class Fruit:\n",
        "    def __init__(self, formalin=False, name=''):\n",
        "        self.__formalin = formalin\n",
        "        self.name = name\n",
        "    def getName(self):\n",
        "        return self.name\n",
        "    def hasFormalin(self):\n",
        "        return self.__formalin\n",
        "class testFruit:\n",
        "    def test(self, f):\n",
        "        print('----Printing Detail----')\n",
        "        if f.hasFormalin():\n",
        "            print('Do not eat the',f.getName(),'.')\n",
        "            print(f)\n",
        "        else:\n",
        "            print('Eat the',f.getName(),'.')\n",
        "            print(f)\n",
        "\n",
        "class Mango(Fruit):\n",
        "  def __init__(self,formalin=True,name=\"Mango\"):\n",
        "    super().__init__(formalin,name)\n",
        "  def __str__(self):\n",
        "    return f\"{self.getName()}s are bad for you\"\n",
        "class Jackfruit(Fruit):\n",
        "  def __init__(self,formalin=False,name=\"Jackfruit\"):\n",
        "    super().__init__(formalin,name)\n",
        "  def __str__(self):\n",
        "    return f\"{self.getName()}s are good for you\"\n",
        "\n",
        "m = Mango()\n",
        "j = Jackfruit()\n",
        "t1 = testFruit()\n",
        "t1.test(m)\n",
        "t1.test(j)"
      ],
      "metadata": {
        "colab": {
          "base_uri": "https://localhost:8080/"
        },
        "id": "oqtiDDhOvzht",
        "outputId": "eed2fedd-36be-4402-a591-4fd14dd012c8"
      },
      "execution_count": null,
      "outputs": [
        {
          "output_type": "stream",
          "name": "stdout",
          "text": [
            "----Printing Detail----\n",
            "Do not eat the Mango .\n",
            "Mangos are bad for you\n",
            "----Printing Detail----\n",
            "Eat the Jackfruit .\n",
            "Jackfruits are good for you\n"
          ]
        }
      ]
    },
    {
      "cell_type": "code",
      "source": [
        "#Task5\n",
        "\n",
        "class Exam:\n",
        "    def __init__(self,marks):\n",
        "        self.marks = marks\n",
        "        self.time = 60\n",
        "    def examSyllabus(self):\n",
        "        return \"Maths , English\"\n",
        "    def examParts(self):\n",
        "        return \"Part 1 - Maths\\nPart 2 - English\\n\"\n",
        "\n",
        "class ScienceExam(Exam):\n",
        "    def __init__(self, marks, time, *parts):\n",
        "        super().__init__(marks)\n",
        "        self.time = time\n",
        "        self.lst = []\n",
        "        self.num = 2\n",
        "        for i in parts:\n",
        "            self.num += 1\n",
        "            self.lst.append(i)\n",
        "    def examSyllabus(self):\n",
        "        sub_lst = super().examSyllabus()\n",
        "        for i in self.lst:\n",
        "            sub_lst += \" , \" + i\n",
        "        return sub_lst\n",
        "    def examParts(self):\n",
        "        num = super().examParts()\n",
        "        count = 3\n",
        "        for i in self.lst:\n",
        "            num += f\"part {str(count)} - {i}\\n\"\n",
        "            count += 1\n",
        "        return num\n",
        "    def __str__(self):\n",
        "        return f\"Marks: {str(self.marks)} Time: {str(self.time)} Number of Parts: {str(self.num)}\"\n",
        "\n",
        "engineering = ScienceExam(100,90,\"Physics\",\"HigherMaths\")\n",
        "print(engineering)\n",
        "print('----------------------------------')\n",
        "print(engineering.examSyllabus())\n",
        "print(engineering.examParts())\n",
        "print('==================================')\n",
        "architecture = ScienceExam(100,120,\"Physics\",\"HigherMaths\",\"Drawing\")\n",
        "print(architecture)\n",
        "print('----------------------------------')\n",
        "print(architecture.examSyllabus())\n",
        "print(architecture.examParts())"
      ],
      "metadata": {
        "colab": {
          "base_uri": "https://localhost:8080/"
        },
        "id": "MMYKIMNlQwsa",
        "outputId": "64299ef8-6264-4915-baf1-905a2a6d9a29"
      },
      "execution_count": null,
      "outputs": [
        {
          "output_type": "stream",
          "name": "stdout",
          "text": [
            "Marks: 100 Time: 90 Number of Parts: 4\n",
            "----------------------------------\n",
            "Maths , English , Physics , HigherMaths\n",
            "Part 1 - Maths\n",
            "Part 2 - English\n",
            "part 3 - Physics\n",
            "part 4 - HigherMaths\n",
            "\n",
            "==================================\n",
            "Marks: 100 Time: 120 Number of Parts: 5\n",
            "----------------------------------\n",
            "Maths , English , Physics , HigherMaths , Drawing\n",
            "Part 1 - Maths\n",
            "Part 2 - English\n",
            "part 3 - Physics\n",
            "part 4 - HigherMaths\n",
            "part 5 - Drawing\n",
            "\n"
          ]
        }
      ]
    },
    {
      "cell_type": "code",
      "source": [
        "#Task6\n",
        "\n",
        "class Shape3D:\n",
        "  pi = 3.14159\n",
        "  def __init__(self, name = 'Default', radius = 0):\n",
        "    self._area = 0\n",
        "    self._name = name\n",
        "    self._height = 'No need'\n",
        "    self._radius = radius\n",
        "  def calc_surface_area(self):\n",
        "    return 2 * Shape3D.pi * self._radius\n",
        "  def __str__(self):\n",
        "      return \"Radius: \"+str(self._radius)\n",
        "\n",
        "class Sphere(Shape3D):\n",
        "    def __init__(self, name, radius):\n",
        "        super().__init__(name, radius)\n",
        "        print(f\"Shape name: {self._name}, Area Formula: 4 * pi * r * r\")\n",
        "    def calc_surface_area(self):\n",
        "        self._area = 4 * Shape3D.pi * self._radius ** 2\n",
        "        return self._area\n",
        "    def __str__(self):\n",
        "        return f\"Radius: {str(self._radius)}, Height: {str(self._height)}\\nArea: {str(self._area)}\"\n",
        "class Cylinder(Shape3D):\n",
        "    def __init__(self, name, radius, height):\n",
        "        super().__init__(name, radius)\n",
        "        self._height = height\n",
        "        print(f\"Shape name: {str(self._name)}, Area Formula: 2 * pi * r * (r+h)\")\n",
        "    def calc_surface_area(self):\n",
        "        self._area = 2 * Shape3D.pi * self._radius * (self._radius + self._height)\n",
        "        return self._area\n",
        "    def __str__(self):\n",
        "        return f\"Radius: {str(self._radius)}, Height: {str(self._height)}\\nArea: {str(self._area)}\"\n",
        "\n",
        "sph = Sphere('Sphere', 5)\n",
        "print('----------------------------------')\n",
        "sph.calc_surface_area()\n",
        "print(sph)\n",
        "print('==================================')\n",
        "cyl = Cylinder('Cylinder', 5, 10)\n",
        "print('----------------------------------')\n",
        "cyl.calc_surface_area()\n",
        "print(cyl)"
      ],
      "metadata": {
        "colab": {
          "base_uri": "https://localhost:8080/"
        },
        "id": "yFLNsZ5D2I5O",
        "outputId": "35fb30aa-a823-4e0e-be4d-6b8cd6d4e97e"
      },
      "execution_count": null,
      "outputs": [
        {
          "output_type": "stream",
          "name": "stdout",
          "text": [
            "Shape name: Sphere, Area Formula: 4 * pi * r * r\n",
            "----------------------------------\n",
            "Radius: 5, Height: No need\n",
            "Area: 314.159\n",
            "==================================\n",
            "Shape name: Cylinder, Area Formula: 2 * pi * r * (r+h)\n",
            "----------------------------------\n",
            "Radius: 5, Height: 10\n",
            "Area: 471.2385\n"
          ]
        }
      ]
    },
    {
      "cell_type": "code",
      "source": [
        "#Task7\n",
        "\n",
        "class PokemonBasic:\n",
        "  def __init__(self, name = 'Default', hp = 0, weakness = 'None', type = 'Unknown'):\n",
        "    self.name = name\n",
        "    self.hit_point = hp\n",
        "    self.weakness = weakness\n",
        "    self.type = type\n",
        "  def get_type(self):\n",
        "    return 'Main type: ' + self.type\n",
        "  def get_move(self):\n",
        "    return 'Basic move: ' + 'Quick Attack'\n",
        "  def __str__(self):\n",
        "    return \"Name: \" + self.name + \", HP: \" + str(self.hit_point) + \", Weakness: \" + self.weakness\n",
        "\n",
        "class PokemonExtra(PokemonBasic):\n",
        "    def __init__(self,name, hp, weakness, type, scnd = None, *moves):\n",
        "        super().__init__(name, hp, weakness, type)\n",
        "        self.scnd = scnd\n",
        "        self.moves = moves\n",
        "        self.lst = []\n",
        "        self.strng = \"\"\n",
        "        for i in self.moves:\n",
        "            self.lst = list(i)\n",
        "        self.strng += \", \".join(self.lst)\n",
        "    def get_type(self):\n",
        "        if self.scnd == None:\n",
        "            return f\"Main type: {self.type}\"\n",
        "        else:\n",
        "            return f\"Main type: {self.type}, Secondary type: {self.scnd}\"\n",
        "    def get_move(self):\n",
        "        if len(self.moves) == 0:\n",
        "            return \"Basic move: Quick Attack\"\n",
        "        else:\n",
        "            return f\"Basic move: Quick Attack\\nOther moves: {str(self.strng)}\"\n",
        "\n",
        "print('\\n------------Basic Info:--------------')\n",
        "pk = PokemonBasic()\n",
        "print(pk)\n",
        "print(pk.get_type())\n",
        "print(pk.get_move())\n",
        "print('\\n------------Pokemon 1 Info:-------------')\n",
        "charmander = PokemonExtra('Charmander', 39, 'Water', 'Fire')\n",
        "print(charmander)\n",
        "print(charmander.get_type())\n",
        "print(charmander.get_move())\n",
        "\n",
        "print('\\n------------Pokemon 2 Info:-------------')\n",
        "charizard = PokemonExtra('Charizard', 78, 'Water', 'Fire', 'Flying', ('Fire Spin', 'Fire Blaze'))\n",
        "print(charizard)\n",
        "print(charizard.get_type())\n",
        "print(charizard.get_move())"
      ],
      "metadata": {
        "colab": {
          "base_uri": "https://localhost:8080/"
        },
        "id": "RmUVZUgA0k7K",
        "outputId": "b9d42b23-7eda-4d9e-e71f-d7da7e6a67f2"
      },
      "execution_count": null,
      "outputs": [
        {
          "output_type": "stream",
          "name": "stdout",
          "text": [
            "\n",
            "------------Basic Info:--------------\n",
            "Name: Default, HP: 0, Weakness: None\n",
            "Main type: Unknown\n",
            "Basic move: Quick Attack\n",
            "\n",
            "------------Pokemon 1 Info:-------------\n",
            "Name: Charmander, HP: 39, Weakness: Water\n",
            "Main type: Fire\n",
            "Basic move: Quick Attack\n",
            "\n",
            "------------Pokemon 2 Info:-------------\n",
            "Name: Charizard, HP: 78, Weakness: Water\n",
            "Main type: Fire, Secondary type: Flying\n",
            "Basic move: Quick Attack\n",
            "Other moves: Fire Spin, Fire Blaze\n"
          ]
        }
      ]
    },
    {
      "cell_type": "code",
      "source": [
        "#Task8\n",
        "\n",
        "class Team:\n",
        "    def __init__(self, name):\n",
        "        self.name = \"default\"\n",
        "        self.total_player = 5\n",
        "    def info(self):\n",
        "        print(\"We love sports\")\n",
        "\n",
        "class CricketTeam(Team):\n",
        "  def __init__(self,name):\n",
        "    self.name = name\n",
        "    self.total_player = 11\n",
        "  def info(self):\n",
        "    print(f'Our name is {self.name}\\nWe play Cricket')\n",
        "    super().info()\n",
        "class FootBallTeam(Team):\n",
        "  def __init__(self,name):\n",
        "    self.name = name\n",
        "    self.total_player = 11\n",
        "  def info(self):\n",
        "    print(f'Our name is {self.name}\\nWe play Football')\n",
        "    super().info()\n",
        "\n",
        "class Team_test:\n",
        "    def check(self, tm):\n",
        "        print(\"=========================\")\n",
        "        print(\"Total Player: \", tm.total_player)\n",
        "        tm.info()\n",
        "\n",
        "f = FootBallTeam(\"Brazil\")\n",
        "c = CricketTeam(\"Bangladesh\")\n",
        "test = Team_test()\n",
        "test.check(f)\n",
        "test.check(c)"
      ],
      "metadata": {
        "colab": {
          "base_uri": "https://localhost:8080/"
        },
        "id": "M_0V9yC_CAJT",
        "outputId": "1d100546-7ab1-4a96-e4e9-c6b3f42d4d29"
      },
      "execution_count": null,
      "outputs": [
        {
          "output_type": "stream",
          "name": "stdout",
          "text": [
            "=========================\n",
            "Total Player:  11\n",
            "Our name is Brazil\n",
            "We play Football\n",
            "We love sports\n",
            "=========================\n",
            "Total Player:  11\n",
            "Our name is Bangladesh\n",
            "We play Cricket\n",
            "We love sports\n"
          ]
        }
      ]
    },
    {
      "cell_type": "code",
      "source": [
        "#Task9\n",
        "\n",
        "class Pokemon:\n",
        "    def __init__(self, p):\n",
        "        self.pokemon = p\n",
        "        self.pokemon_type = \"Needs to be set\"\n",
        "        self.pokemon_weakness = \"Needs to be set\"\n",
        "    def kind(self):\n",
        "        return self.pokemon_type\n",
        "    def weakness(self):\n",
        "        return self.pokemon_weakness\n",
        "    def what_am_i(self):\n",
        "        print(\"I am a Pokemon.\")\n",
        "\n",
        "class Pikachu(Pokemon):\n",
        "    def __init__(self, name = \"Pikachu\", type = \"Electric\", weakness = \"Ground\"):\n",
        "        super().__init__(name)\n",
        "        self.pokemon_type = type\n",
        "        self.pokemon_weakness = weakness\n",
        "    def what_am_i(self):\n",
        "        super().what_am_i()\n",
        "        print(f\"I am {self.pokemon}.\")\n",
        "class Charmander(Pokemon):\n",
        "    def __init__(self, name = \"Charmander\", type = \"Fire\", weakness = \"Water, Ground and Rock\"):\n",
        "        super().__init__(name)\n",
        "        self.pokemon_type = type\n",
        "        self.pokemon_weakness = weakness\n",
        "    def what_am_i(self):\n",
        "        super().what_am_i()\n",
        "        print(f\"I am {self.pokemon}.\")\n",
        "\n",
        "pk1 = Pikachu()\n",
        "print(\"Pokemon:\", pk1.pokemon)\n",
        "print(\"Type:\", pk1.kind())\n",
        "print(\"Weakness:\", pk1.weakness())\n",
        "pk1.what_am_i()\n",
        "print(\"========================\")\n",
        "c1 = Charmander()\n",
        "print(\"Pokemon:\", c1.pokemon)\n",
        "print(\"Type:\", c1.kind())\n",
        "print(\"Weakness:\", c1.weakness())\n",
        "c1.what_am_i()\n"
      ],
      "metadata": {
        "colab": {
          "base_uri": "https://localhost:8080/"
        },
        "id": "-g4va_qF3SNW",
        "outputId": "77c51ee8-0bb4-4a23-96a1-5957c2bc1981"
      },
      "execution_count": null,
      "outputs": [
        {
          "output_type": "stream",
          "name": "stdout",
          "text": [
            "Pokemon: Pikachu\n",
            "Type: Electric\n",
            "Weakness: Ground\n",
            "I am a Pokemon.\n",
            "I am Pikachu.\n",
            "========================\n",
            "Pokemon: Charmander\n",
            "Type: Fire\n",
            "Weakness: Water, Ground and Rock\n",
            "I am a Pokemon.\n",
            "I am Charmander.\n"
          ]
        }
      ]
    },
    {
      "cell_type": "code",
      "source": [
        "#Task10\n",
        "\n",
        "class Department:\n",
        "    def __init__(self, s):\n",
        "        self.semester = s\n",
        "        self.name = \"Default\"\n",
        "        self.id = -1\n",
        "    def student_info(self):\n",
        "        print(\"Name:\", self.name)\n",
        "        print(\"ID:\", self.id)\n",
        "    def courses(self, c1, c2, c3):\n",
        "        print(\"No courses Approved yet!\")\n",
        "\n",
        "class CSE(Department):\n",
        "    def __init__(self, name, ID, semester):\n",
        "        super().__init__(semester)\n",
        "        self.name = name\n",
        "        self.id = ID\n",
        "    def student_info(self):\n",
        "        super().student_info()\n",
        "        print(f\"Courses Approved to this CSE student in {self.semester} semester: \")\n",
        "    def courses(self, c1, c2, c3):\n",
        "        print(f\"{c1}\\n{c2}\\n{c3}\")\n",
        "class EEE(Department):\n",
        "    def __init__(self, name, ID, semester):\n",
        "        super().__init__(semester)\n",
        "        self.name = name\n",
        "        self.id = ID\n",
        "    def student_info(self):\n",
        "        super().student_info()\n",
        "        print(f\"Courses Approved to this EEE student in {self.semester} semester: \")\n",
        "    def courses(self, c1, c2, c3):\n",
        "        print(f\"{c1}\\n{c2}\\n{c3}\")\n",
        "\n",
        "s1 = CSE(\"Rahim\", 16101328,\"Spring2016\")\n",
        "s1.student_info()\n",
        "s1.courses(\"CSE110\", \"MAT110\", \"ENG101\")\n",
        "print(\"==================\")\n",
        "s2 = EEE(\"Tanzim\", 18101326, \"Spring2018\")\n",
        "s2.student_info()\n",
        "s2.courses(\"Mat110\", \"PHY111\", \"ENG101\")\n",
        "print(\"==================\")\n",
        "s3 = CSE(\"Rudana\", 18101326, \"Fall2017\")\n",
        "s3.student_info()\n",
        "s3.courses(\"CSE111\", \"PHY101\", \"MAT120\")\n",
        "print(\"==================\")\n",
        "s4 = EEE(\"Zainab\", 19201623, \"Summer2019\")\n",
        "s4.student_info()\n",
        "s4.courses(\"EEE201\", \"PHY112\", \"MAT120\")"
      ],
      "metadata": {
        "colab": {
          "base_uri": "https://localhost:8080/"
        },
        "id": "XhH0_5TOLdUI",
        "outputId": "baa57202-de10-40d6-f9c8-27daf4bfddab"
      },
      "execution_count": null,
      "outputs": [
        {
          "output_type": "stream",
          "name": "stdout",
          "text": [
            "Name: Rahim\n",
            "ID: 16101328\n",
            "Courses Approved to this CSE student in Spring2016 semester: \n",
            "CSE110\n",
            "MAT110\n",
            "ENG101\n",
            "==================\n",
            "Name: Tanzim\n",
            "ID: 18101326\n",
            "Courses Approved to this EEE student in Spring2018 semester: \n",
            "Mat110\n",
            "PHY111\n",
            "ENG101\n",
            "==================\n",
            "Name: Rudana\n",
            "ID: 18101326\n",
            "Courses Approved to this CSE student in Fall2017 semester: \n",
            "CSE111\n",
            "PHY101\n",
            "MAT120\n",
            "==================\n",
            "Name: Zainab\n",
            "ID: 19201623\n",
            "Courses Approved to this EEE student in Summer2019 semester: \n",
            "EEE201\n",
            "PHY112\n",
            "MAT120\n"
          ]
        }
      ]
    }
  ]
}