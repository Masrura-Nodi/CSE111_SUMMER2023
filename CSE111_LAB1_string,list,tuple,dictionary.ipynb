{
  "nbformat": 4,
  "nbformat_minor": 0,
  "metadata": {
    "colab": {
      "provenance": []
    },
    "kernelspec": {
      "name": "python3",
      "display_name": "Python 3"
    },
    "language_info": {
      "name": "python"
    }
  },
  "cells": [
    {
      "cell_type": "code",
      "execution_count": null,
      "metadata": {
        "colab": {
          "base_uri": "https://localhost:8080/"
        },
        "id": "CF5F_IC3R3ac",
        "outputId": "1712d953-a8c9-4b58-fd19-ab682d6caa4a"
      },
      "outputs": [
        {
          "output_type": "stream",
          "name": "stdout",
          "text": [
            "Enter the given string: HOusE\n",
            "HOUSE\n"
          ]
        }
      ],
      "source": [
        "#Task1-string\n",
        "\n",
        "string = input(\"Enter the given string: \")\n",
        "uppercase = \"\"\n",
        "lowercase = \"\"\n",
        "\n",
        "for i in string:\n",
        "   if 65 <= ord(i) <=90:\n",
        "       uppercase += i\n",
        "   else:\n",
        "       lowercase += i\n",
        "\n",
        "newstring = \"\"\n",
        "if len(lowercase) < len(uppercase):\n",
        "    newstring = string.upper()\n",
        "else:\n",
        "    newstring = string.lower()\n",
        "print(newstring)"
      ]
    },
    {
      "cell_type": "code",
      "source": [
        "#Task2-string\n",
        "\n",
        "string = input(\"Enter the given string: \")\n",
        "number = 0\n",
        "word = 0\n",
        "\n",
        "for i in string:\n",
        "    if 65 <= ord(i) <=90 or 97 <= ord(i) <=122 :\n",
        "        word += 1\n",
        "    elif 48 <= ord(i) <=57:\n",
        "        number += 14\n",
        "\n",
        "if number > 0 and word > 0:\n",
        "    print(\"MIXED\")\n",
        "elif word > 0:\n",
        "    print(\"WORD\")\n",
        "else:\n",
        "    print(\"NUMBER\")"
      ],
      "metadata": {
        "colab": {
          "base_uri": "https://localhost:8080/"
        },
        "id": "W7mAI3SWQPKl",
        "outputId": "b554a249-8263-4c13-adc3-f1d84ba42ff0"
      },
      "execution_count": null,
      "outputs": [
        {
          "output_type": "stream",
          "name": "stdout",
          "text": [
            "Enter the given string: 14345647\n",
            "NUMBER\n"
          ]
        }
      ]
    },
    {
      "cell_type": "code",
      "source": [
        "#Task3-string\n",
        "\n",
        "string = input(\"Enter the given string: \")\n",
        "count = 0\n",
        "\n",
        "for i in range(len(string)):\n",
        "    count += 1\n",
        "    if 65 <= ord(string[i]) <= 90:\n",
        "        m = count\n",
        "        break\n",
        "\n",
        "for j in range(m, len(string)):\n",
        "    count += 1\n",
        "    if 65 <= ord(string[j]) <= 90:\n",
        "        n = count\n",
        "        break\n",
        "\n",
        "if n-m == 1:\n",
        "    print(\"BLANK\")\n",
        "else:\n",
        "    print(f\"{string[m:n-1]}\")"
      ],
      "metadata": {
        "colab": {
          "base_uri": "https://localhost:8080/"
        },
        "id": "bQ3jf7fCz_mK",
        "outputId": "7616ba74-fa61-42d2-a176-1164b7a44b25"
      },
      "execution_count": null,
      "outputs": [
        {
          "output_type": "stream",
          "name": "stdout",
          "text": [
            "Enter the given strings: coDIng\n",
            "BLANK\n"
          ]
        }
      ]
    },
    {
      "cell_type": "code",
      "source": [
        "#Task4-string\n",
        "\n",
        "string = input(\"Enter the given strings: \").split(\",\")\n",
        "\n",
        "if len(string[0]) < len(string[1]):\n",
        "    str1 = string[1]\n",
        "    str2 = string[0]\n",
        "else:\n",
        "    str1 = string[0]\n",
        "    str2 = string[1]\n",
        "\n",
        "newstring = \"\"\n",
        "for i in str2:\n",
        "    if i in str1:\n",
        "        newstring += i\n",
        "\n",
        "for i in str1:\n",
        "    if i in str2:\n",
        "        newstring += i\n",
        "\n",
        "if newstring == \"\":\n",
        "    print(\"Nothing in common.\")\n",
        "else:\n",
        "    print(newstring)"
      ],
      "metadata": {
        "colab": {
          "base_uri": "https://localhost:8080/"
        },
        "id": "UUSEXilYtBhj",
        "outputId": "0fc93729-3ffb-4c05-8bbd-d23b7ab1e8f6"
      },
      "execution_count": null,
      "outputs": [
        {
          "output_type": "stream",
          "name": "stdout",
          "text": [
            "Enter the given strings: harry, hermione\n",
            "hrrhr\n"
          ]
        }
      ]
    },
    {
      "cell_type": "code",
      "source": [
        "#Task5-string\n",
        "\n",
        "password = input(\"Enter the password: \")\n",
        "digit = \"0123456789\"\n",
        "dgt = 0\n",
        "sp_char = \"_$#@\"\n",
        "char = 0\n",
        "uppercase = 0\n",
        "lowercase = 0\n",
        "\n",
        "for i in password:\n",
        "    if 65 <= ord(i) <=90:\n",
        "        uppercase += 1\n",
        "    elif 97 <= ord(i) <=122:\n",
        "        lowercase += 1\n",
        "    elif i in digit:\n",
        "        dgt += 1\n",
        "    elif i in sp_char:\n",
        "        char += 1\n",
        "\n",
        "if uppercase < 1 or lowercase < 1 or dgt < 1 or char < 1:\n",
        "    missing = \"\"\n",
        "    if uppercase < 1:\n",
        "        missing += \"Uppercase character missing, \"\n",
        "    if lowercase < 1:\n",
        "        missing += \"Lowercase character missing, \"\n",
        "    if dgt < 1:\n",
        "        missing += \"Digit missing, \"\n",
        "    if char < 1:\n",
        "        missing += \"Special character missing, \"\n",
        "    print(missing[:len(missing)-2])\n",
        "else:\n",
        "    print(\"OK\")"
      ],
      "metadata": {
        "colab": {
          "base_uri": "https://localhost:8080/"
        },
        "id": "6vnc5eZq6FPP",
        "outputId": "ecae64a1-2007-4f14-9f01-db00873fa72c"
      },
      "execution_count": null,
      "outputs": [
        {
          "output_type": "stream",
          "name": "stdout",
          "text": [
            "Enter the password: ohmybracu\n",
            "Uppercase character missing, Digit missing, Special character missing\n"
          ]
        }
      ]
    },
    {
      "cell_type": "code",
      "source": [
        "#Task1-list\n",
        "\n",
        "list1 = []\n",
        "count = 0\n",
        "\n",
        "while count == 0:\n",
        "    usr = input(\"Enter: \")\n",
        "    list1.append(usr)\n",
        "    if usr == \"STOP\":\n",
        "        break\n",
        "\n",
        "list1.remove(\"STOP\")\n",
        "list2 = []\n",
        "\n",
        "for m in list1:\n",
        "    if m in list2:\n",
        "        continue\n",
        "    else:\n",
        "        list2.append(m)\n",
        "\n",
        "for m in list2:\n",
        "    count = 0\n",
        "    for n in list1:\n",
        "        if m==n:\n",
        "            count += 1\n",
        "    print(m, \"-\", count, \"times\")\n",
        "count = 0"
      ],
      "metadata": {
        "colab": {
          "base_uri": "https://localhost:8080/"
        },
        "id": "6oV3YQlZYvei",
        "outputId": "0c9d32fb-abca-467b-ec3b-8cad8dfce98d"
      },
      "execution_count": null,
      "outputs": [
        {
          "output_type": "stream",
          "name": "stdout",
          "text": [
            "Enter: 10\n",
            "Enter: 20\n",
            "Enter: 20\n",
            "Enter: 30\n",
            "Enter: 10\n",
            "Enter: 50\n",
            "Enter: 90\n",
            "Enter: STOP\n",
            "10 - 2 times\n",
            "20 - 2 times\n",
            "30 - 1 times\n",
            "50 - 1 times\n",
            "90 - 1 times\n"
          ]
        }
      ]
    },
    {
      "cell_type": "code",
      "source": [
        "#Task2-list\n",
        "nlists = int(input(\"Enter the number of lists: \"))\n",
        "list1 = []\n",
        "sum = 0\n",
        "\n",
        "for i in range(nlists):\n",
        "    list2= [int(num) for num in input(\"Enter the list: \").\n",
        "            split()]\n",
        "    list1.append(list2)\n",
        "    s = 0\n",
        "    for j in list2:\n",
        "        s += j\n",
        "        if s > sum:\n",
        "            sum = s\n",
        "            highest = i\n",
        "\n",
        "print(sum)\n",
        "print(list1[highest])"
      ],
      "metadata": {
        "colab": {
          "base_uri": "https://localhost:8080/"
        },
        "id": "pAeB27BCFwed",
        "outputId": "de5a6554-5661-40e0-85d7-a84cf6af81ae"
      },
      "execution_count": null,
      "outputs": [
        {
          "output_type": "stream",
          "name": "stdout",
          "text": [
            "Enter the number of lists: 5\n",
            "Enter the list: 4\n",
            "Enter the list: 1 2 3 \n",
            "Enter the list: 4 5 6 \n",
            "Enter the list: 10 11 12\n",
            "Enter the list: 7 8 9 \n",
            "33\n",
            "[10, 11, 12]\n"
          ]
        }
      ]
    },
    {
      "cell_type": "code",
      "source": [
        "#Task3-list\n",
        "\n",
        "list1 = [int(num) for num in input(\"Enter: \").split()]\n",
        "list2 = [int(num) for num in input(\"Enter: \").split()]\n",
        "\n",
        "multiplication = [(i * j) for i in list1 for j in list2]\n",
        "\n",
        "print(multiplication)"
      ],
      "metadata": {
        "colab": {
          "base_uri": "https://localhost:8080/"
        },
        "id": "u2DFt8ACM-Fm",
        "outputId": "01c9617d-6b0e-4bfd-d2d0-21ebb3280b78"
      },
      "execution_count": null,
      "outputs": [
        {
          "output_type": "stream",
          "name": "stdout",
          "text": [
            "Enter the list: 2 3 6\n",
            "Enter the list: 3 4 5\n",
            "[6, 8, 10, 9, 12, 15, 18, 24, 30]\n"
          ]
        }
      ]
    },
    {
      "cell_type": "code",
      "source": [
        "#Task4-list\n",
        "\n",
        "while True:\n",
        "    num = input()\n",
        "    if num == \"STOP\":\n",
        "        break\n",
        "    else:\n",
        "        number = num.split()\n",
        "\n",
        "        num_list = []\n",
        "        for i in number:\n",
        "            num_list.append(int(i))\n",
        "        num_list2 = []\n",
        "        for i in range (len(num_list)-1):\n",
        "            sub = abs((num_list[i])-(num_list[i+1]))\n",
        "            num_list2.append (sub)\n",
        "        if (len(num_list) - 1) == max(num_list2):\n",
        "            print(\"UB Jumper\")\n",
        "        else:\n",
        "            print(\"Not UB Jumper\")"
      ],
      "metadata": {
        "colab": {
          "base_uri": "https://localhost:8080/",
          "height": 252
        },
        "id": "xB_tPelKc-Ty",
        "outputId": "a487d790-b29e-45a6-d404-37a9fd9509a8"
      },
      "execution_count": null,
      "outputs": [
        {
          "name": "stdout",
          "output_type": "stream",
          "text": [
            "1 4 3 -1 6\n"
          ]
        },
        {
          "output_type": "error",
          "ename": "TypeError",
          "evalue": "ignored",
          "traceback": [
            "\u001b[0;31m---------------------------------------------------------------------------\u001b[0m",
            "\u001b[0;31mTypeError\u001b[0m                                 Traceback (most recent call last)",
            "\u001b[0;32m<ipython-input-76-142dfb2c1e2c>\u001b[0m in \u001b[0;36m<module>\u001b[0;34m\u001b[0m\n\u001b[1;32m     11\u001b[0m         \u001b[0mnum_list2\u001b[0m \u001b[0;34m=\u001b[0m \u001b[0;34m[\u001b[0m\u001b[0;34m]\u001b[0m\u001b[0;34m\u001b[0m\u001b[0;34m\u001b[0m\u001b[0m\n\u001b[1;32m     12\u001b[0m         \u001b[0;32mfor\u001b[0m \u001b[0mi\u001b[0m \u001b[0;32min\u001b[0m \u001b[0mrange\u001b[0m \u001b[0;34m(\u001b[0m\u001b[0mlen\u001b[0m\u001b[0;34m(\u001b[0m\u001b[0mnum_list\u001b[0m\u001b[0;34m)\u001b[0m\u001b[0;34m-\u001b[0m\u001b[0;36m1\u001b[0m\u001b[0;34m)\u001b[0m\u001b[0;34m:\u001b[0m\u001b[0;34m\u001b[0m\u001b[0;34m\u001b[0m\u001b[0m\n\u001b[0;32m---> 13\u001b[0;31m             \u001b[0msub\u001b[0m \u001b[0;34m=\u001b[0m \u001b[0mabs\u001b[0m\u001b[0;34m(\u001b[0m\u001b[0;34m(\u001b[0m\u001b[0mnum_list\u001b[0m\u001b[0;34m[\u001b[0m\u001b[0mi\u001b[0m\u001b[0;34m]\u001b[0m\u001b[0;34m)\u001b[0m\u001b[0;34m-\u001b[0m\u001b[0;34m(\u001b[0m\u001b[0mnum_list\u001b[0m\u001b[0;34m[\u001b[0m\u001b[0mi\u001b[0m\u001b[0;34m+\u001b[0m\u001b[0;36m1\u001b[0m\u001b[0;34m]\u001b[0m\u001b[0;34m)\u001b[0m\u001b[0;34m)\u001b[0m\u001b[0;34m\u001b[0m\u001b[0;34m\u001b[0m\u001b[0m\n\u001b[0m\u001b[1;32m     14\u001b[0m             \u001b[0mnum_list2\u001b[0m\u001b[0;34m.\u001b[0m\u001b[0mappend\u001b[0m \u001b[0;34m(\u001b[0m\u001b[0msub\u001b[0m\u001b[0;34m)\u001b[0m\u001b[0;34m\u001b[0m\u001b[0;34m\u001b[0m\u001b[0m\n\u001b[1;32m     15\u001b[0m         \u001b[0;32mif\u001b[0m \u001b[0;34m(\u001b[0m\u001b[0mlen\u001b[0m\u001b[0;34m(\u001b[0m\u001b[0mnum_list\u001b[0m\u001b[0;34m)\u001b[0m \u001b[0;34m-\u001b[0m \u001b[0;36m1\u001b[0m\u001b[0;34m)\u001b[0m \u001b[0;34m==\u001b[0m \u001b[0mmax\u001b[0m\u001b[0;34m(\u001b[0m\u001b[0mnum_list2\u001b[0m\u001b[0;34m)\u001b[0m\u001b[0;34m:\u001b[0m\u001b[0;34m\u001b[0m\u001b[0;34m\u001b[0m\u001b[0m\n",
            "\u001b[0;31mTypeError\u001b[0m: unsupported operand type(s) for -: 'str' and 'str'"
          ]
        }
      ]
    },
    {
      "cell_type": "code",
      "source": [
        "#Task5-list\n",
        "\n",
        "n1 = [int(num) for num in input(\"Enter: \").split()]\n",
        "n2 = [int(num) for num in input(\"Enter: \").split()]\n",
        "list1 = []\n",
        "for i in n2:\n",
        "  m = 5 - i - n1[1]\n",
        "  if m >= 0:\n",
        "    list1.append(i)\n",
        "print(len(list1) // 3)"
      ],
      "metadata": {
        "colab": {
          "base_uri": "https://localhost:8080/"
        },
        "id": "aoc3XLpNK7aV",
        "outputId": "ce25728c-faef-40a4-eed2-2f662c288167"
      },
      "execution_count": null,
      "outputs": [
        {
          "output_type": "stream",
          "name": "stdout",
          "text": [
            "5 2\n",
            "0 4 5 1 0\n",
            "1\n"
          ]
        }
      ]
    },
    {
      "cell_type": "code",
      "source": [
        "#Task1-dictionary & tuple\n",
        "\n",
        "dic1 = {\"a\": 100, \"b\": 100, \"c\": 200, \"d\": 300}\n",
        "dic2 = {\"a\": 300, \"b\": 200, \"d\": 400, \"e\": 200}\n",
        "dic3 = {}\n",
        "\n",
        "for i, j in dic1.items():\n",
        "    dic3[i] = j\n",
        "print(dic3)\n",
        "\n",
        "for m, n in dic2.items():\n",
        "    if m in dic3.keys():\n",
        "        dic3[m] = dic3[m] + n\n",
        "    else:\n",
        "        dic3[m] = n\n",
        "print(dic3)\n",
        "\n",
        "lis = []\n",
        "for x in dic3.values():\n",
        "    if x not in lis:\n",
        "        lis.append(x)\n",
        "tup = sorted(lis)\n",
        "print(\"Values :\",tuple(tup))"
      ],
      "metadata": {
        "id": "MNlJ3rwugbtx",
        "colab": {
          "base_uri": "https://localhost:8080/"
        },
        "outputId": "676c805b-5868-42e5-ea38-8b89c05df360"
      },
      "execution_count": null,
      "outputs": [
        {
          "output_type": "stream",
          "name": "stdout",
          "text": [
            "{'a': 100, 'b': 100, 'c': 200, 'd': 300}\n",
            "{'a': 400, 'b': 300, 'c': 200, 'd': 700, 'e': 200}\n",
            "Values : (200, 300, 400, 700)\n"
          ]
        }
      ]
    },
    {
      "cell_type": "code",
      "source": [
        "#Task2-dictionary & tuple\n",
        "\n",
        "usr = input(\"Enter numbers: \")\n",
        "list1 = []\n",
        "while usr != \"STOP\":\n",
        "    list1.append(usr)\n",
        "    usr = \"\"\n",
        "    usr = input(\"Enter: \")\n",
        "dic1 = {}\n",
        "list2 = []\n",
        "for i in list1:\n",
        "    if i not in list2:\n",
        "        list2.append(i)\n",
        "num = list1\n",
        "count = 0\n",
        "for j in list2:\n",
        "    count = 0\n",
        "    for k in num:\n",
        "       if j == k:\n",
        "           count += 1\n",
        "    dic1[j] = count\n",
        "for m,n in dic1.items():\n",
        "    print(m, \"-\",n,\"times\")"
      ],
      "metadata": {
        "colab": {
          "base_uri": "https://localhost:8080/"
        },
        "id": "Exq6MhLmz0yb",
        "outputId": "ccb88ca9-8e7b-43ce-93aa-2aa266b56e75"
      },
      "execution_count": null,
      "outputs": [
        {
          "output_type": "stream",
          "name": "stdout",
          "text": [
            "Enter numbers: 1\n",
            "Enter: 2\n",
            "Enter: 2\n",
            "Enter: 5\n",
            "Enter: STOP\n",
            "1 - 1 times\n",
            "2 - 2 times\n",
            "5 - 1 times\n"
          ]
        }
      ]
    },
    {
      "cell_type": "code",
      "source": [
        "#Task3-dictionary & tuple\n",
        "\n",
        "string = input(\"Enter: \").split(\", \")\n",
        "dic1 = {}\n",
        "dic2 = {}\n",
        "for i in string:\n",
        "    keyv = i.split(\": \")\n",
        "    dic1[keyv[0]] = keyv[1]\n",
        "\n",
        "list1 = []\n",
        "\n",
        "for key,value in dic1.items():\n",
        "    list1.append(value)\n",
        "\n",
        "list2 = []\n",
        "for key in list1:\n",
        "    if not key in list2:\n",
        "        list2.append(key)\n",
        "\n",
        "dic3 = {}\n",
        "for key in list2:\n",
        "    dic3[key] = []\n",
        "\n",
        "for key,value in dic1.items():\n",
        "    dic3[value].append(key)\n",
        "print(dic3)"
      ],
      "metadata": {
        "colab": {
          "base_uri": "https://localhost:8080/"
        },
        "id": "dSQSaluE2ZeZ",
        "outputId": "f70e0557-ef83-43ef-ff8c-d64b42b70537"
      },
      "execution_count": null,
      "outputs": [
        {
          "output_type": "stream",
          "name": "stdout",
          "text": [
            "Enter: key1 : value1, key2 : value2, key3 : value1\n",
            "{'value1': ['key1 ', 'key3 '], 'value2': ['key2 ']}\n"
          ]
        }
      ]
    },
    {
      "cell_type": "code",
      "source": [
        "#Task4-dictionary & tuple\n",
        "\n",
        "ks = {\".,?!:\":1,\"ABC\":2,\"DEF\":3,\"GHI\":4,\"JKL\":5,\"MNO\":6,\"PQRS\":7,\"TUV\":8,\"WXYZ\":9,\" \":0}\n",
        "usr = input(\"Enter: \").upper()\n",
        "\n",
        "press = \"\"\n",
        "for i in usr:\n",
        "    for m,n in ks.items():\n",
        "        for j in range(0,len(m),1):\n",
        "            if i == m[j]:\n",
        "                press += n * (j+3)\n",
        "print(press)"
      ],
      "metadata": {
        "colab": {
          "base_uri": "https://localhost:8080/"
        },
        "id": "dSI6OvPp-pzO",
        "outputId": "e149484b-7daf-4360-bdbb-48ef3c6b6cb6"
      },
      "execution_count": null,
      "outputs": [
        {
          "output_type": "stream",
          "name": "stdout",
          "text": [
            "Enter: Hello, World!\n",
            "4444444555555555555555543333333335555555555555555553336\n"
          ]
        }
      ]
    }
  ]
}