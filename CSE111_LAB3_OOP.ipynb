{
  "nbformat": 4,
  "nbformat_minor": 0,
  "metadata": {
    "colab": {
      "provenance": []
    },
    "kernelspec": {
      "name": "python3",
      "display_name": "Python 3"
    },
    "language_info": {
      "name": "python"
    }
  },
  "cells": [
    {
      "cell_type": "code",
      "execution_count": null,
      "metadata": {
        "colab": {
          "base_uri": "https://localhost:8080/"
        },
        "id": "eQLVJfmuVS1P",
        "outputId": "ed6273b7-fd3c-42c2-aa61-1e530e64e559"
      },
      "outputs": [
        {
          "output_type": "stream",
          "name": "stdout",
          "text": [
            "Integer\n",
            "1234\n",
            "=====================\n",
            "String\n",
            "Hello\n",
            "=====================\n",
            "Float\n",
            "4.0\n"
          ]
        }
      ],
      "source": [
        "#Task1 - oop\n",
        "\n",
        "class DataType:\n",
        "    def __init__(self, name, value):\n",
        "        self.name = name\n",
        "        self.value = value\n",
        "\n",
        "data_type1 = DataType(\"Integer\", 1234)\n",
        "print(data_type1.name)\n",
        "print(data_type1.value)\n",
        "print('=====================')\n",
        "data_type2 = DataType(\"String\", \"Hello\")\n",
        "print(data_type2.name)\n",
        "print(data_type2.value)\n",
        "print('=====================')\n",
        "data_type3 = DataType(\"Float\", 4.0)\n",
        "print(data_type3.name)\n",
        "print(data_type3.value)"
      ]
    },
    {
      "cell_type": "code",
      "source": [
        "#Task2 - oop\n",
        "\n",
        "class Joker:\n",
        "    def __init__(self, name, power, is_he_psycho):\n",
        "        self.name = name\n",
        "        self.power = power\n",
        "        self.is_he_psycho = is_he_psycho\n",
        "\n",
        "j1 = Joker('Heath Ledger', 'Mind Game', False)\n",
        "print(j1.name)\n",
        "print(j1.power)\n",
        "print(j1.is_he_psycho)\n",
        "print('=====================')\n",
        "j2 = Joker('Joaquin Phoenix', 'Laughing out Loud', True)\n",
        "print(j2.name)\n",
        "print(j2.power)\n",
        "print(j2.is_he_psycho)\n",
        "print('=====================')\n",
        "if j1 == j2:\n",
        "    print('same')\n",
        "else:\n",
        "    print('different')\n",
        "j2.name = 'Heath Ledger'\n",
        "if j1.name == j2.name:\n",
        "    print('same')\n",
        "else:\n",
        "    print('different')\n",
        "\n",
        "print('It is different because j1 and j2 are different objects of the Joker class which will mainly check their memory location and they are different.')\n",
        "\n",
        "print('It is same because of the update where j2.name is same as j1.name.')"
      ],
      "metadata": {
        "colab": {
          "base_uri": "https://localhost:8080/"
        },
        "id": "8WWhlRE5bkTf",
        "outputId": "f44f122a-9904-4c78-d3cc-e7df2b198098"
      },
      "execution_count": null,
      "outputs": [
        {
          "output_type": "stream",
          "name": "stdout",
          "text": [
            "Heath Ledger\n",
            "Mind Game\n",
            "False\n",
            "=====================\n",
            "Joaquin Phoenix\n",
            "Laughing out Loud\n",
            "True\n",
            "=====================\n",
            "different\n",
            "same\n",
            "It is different because j1 and j2 are different objects of the Joker class which will mainly check their memory location but they are different.\n",
            "It is same because of the update where j2.name is same as j1.name.\n"
          ]
        }
      ]
    },
    {
      "cell_type": "code",
      "source": [
        "#Task3 - oop\n",
        "\n",
        "class Pokemon:\n",
        "    def __init__(self, pokemon1_name, pokemon2_name, pokemon1_power, pokemon2_power, damage_rate):\n",
        "        self.pokemon1_name = pokemon1_name\n",
        "        self.pokemon2_name = pokemon2_name\n",
        "        self.pokemon1_power = pokemon1_power\n",
        "        self.pokemon2_power = pokemon2_power\n",
        "        self.damage_rate = damage_rate\n",
        "\n",
        "team_pika = Pokemon('pikachu', 'charmander', 90, 60, 10)\n",
        "print('=======Team 1=======')\n",
        "print('Pokemon 1:',team_pika.pokemon1_name,\n",
        "team_pika.pokemon1_power)\n",
        "print('Pokemon 2:',team_pika.pokemon2_name, team_pika.pokemon2_power)\n",
        "pika_combined_power = (team_pika.pokemon1_power + team_pika.pokemon2_power) * team_pika.damage_rate\n",
        "print('Combined Power:', pika_combined_power)\n",
        "\n",
        "team_bulb = Pokemon('bulbasaur', 'squirtle', 80, 70, 9)\n",
        "print('=======Team 1=======')\n",
        "print('Pokemon 1:',team_bulb.pokemon1_name, team_bulb.pokemon1_power)\n",
        "print('Pokemon 2:',team_bulb.pokemon2_name, team_bulb.pokemon2_power)\n",
        "bulb_combined_power = (team_bulb.pokemon1_power + team_bulb.pokemon2_power) * team_bulb.damage_rate\n",
        "print('Combined Power:', bulb_combined_power)"
      ],
      "metadata": {
        "colab": {
          "base_uri": "https://localhost:8080/"
        },
        "id": "xL6v3EGwcICn",
        "outputId": "432f090f-3a3e-46d4-8a8f-4caa310e3ec4"
      },
      "execution_count": null,
      "outputs": [
        {
          "output_type": "stream",
          "name": "stdout",
          "text": [
            "=======Team 1=======\n",
            "Pokemon 1: pikachu 90\n",
            "Pokemon 2: charmander 60\n",
            "Combined Power: 1500\n",
            "=======Team 1=======\n",
            "Pokemon 1: bulbasaur 80\n",
            "Pokemon 2: squirtle 70\n",
            "Combined Power: 1350\n"
          ]
        }
      ]
    },
    {
      "cell_type": "code",
      "source": [
        "#Task4 - oop\n",
        "\n",
        "class Country:\n",
        "    def __init__(self):\n",
        "        self.name = \"Bangladesh\"\n",
        "        self.continent = \"Asia\"\n",
        "        self.capital = \"Dhaka\"\n",
        "        self.fifa_ranking = 187\n",
        "\n",
        "country = Country()\n",
        "print('Name:',country.name)\n",
        "print('Continent:',country.continent)\n",
        "print('Capital:',country.capital)\n",
        "print('Fifa Ranking:',country.fifa_ranking)\n",
        "print('===================')\n",
        "country.name = \"Belgium\"\n",
        "country.continent = \"Europe\"\n",
        "country.capital = \"Brussels\"\n",
        "country.fifa_ranking = 1\n",
        "print('Name:',country.name)\n",
        "print('Continent:',country.continent)\n",
        "print('Capital:',country.capital)\n",
        "print('Fifa Ranking:',country.fifa_ranking)"
      ],
      "metadata": {
        "colab": {
          "base_uri": "https://localhost:8080/"
        },
        "id": "jfUVpivwU8VJ",
        "outputId": "6a9d15f0-f1be-4d65-cbf0-6b2419688970"
      },
      "execution_count": null,
      "outputs": [
        {
          "output_type": "stream",
          "name": "stdout",
          "text": [
            "Name: Bangladesh\n",
            "Continent: Asia\n",
            "Capital: Dhaka\n",
            "Fifa Ranking: 187\n",
            "===================\n",
            "Name: Belgium\n",
            "Continent: Europe\n",
            "Capital: Brussels\n",
            "Fifa Ranking: 1\n"
          ]
        }
      ]
    },
    {
      "cell_type": "code",
      "source": [
        "#Task5 - oop\n",
        "\n",
        "class DemonSlayer:\n",
        "    def __init__(self, name, style, number_of_technique, kill):\n",
        "        self.name = name\n",
        "        self.style = style\n",
        "        self.number_of_technique = number_of_technique\n",
        "        self.kill = kill\n",
        "\n",
        "tanjiro = DemonSlayer(\"Tanjiro\", \"Water Breathing\", 10, 10)\n",
        "print('Name:',tanjiro.name)\n",
        "print('Fighting Style:',tanjiro.style)\n",
        "print(f'Knows {tanjiro.number_of_technique} technique(s) and has killed {tanjiro.kill} demon(s)')\n",
        "print('===================')\n",
        "zenitsu = DemonSlayer(\"Zenitsu\", \"Thunder Breathing\", 1, 4)\n",
        "print('Name:',zenitsu.name)\n",
        "print('Fighting Style:',zenitsu.style)\n",
        "print(f'Knows {zenitsu.number_of_technique} technique(s) and has killed {zenitsu.kill} demon(s)')\n",
        "print('===================')\n",
        "inosuke = DemonSlayer(\"Inosuke\", \"Beast Breathing\", 5, 7)\n",
        "print('Name:',inosuke.name)\n",
        "print('Fighting Style:',inosuke.style)\n",
        "print(f'Knows {inosuke.number_of_technique} technique(s) and has killed {inosuke.kill} demon(s)')\n",
        "print('===================')\n",
        "print(f'{tanjiro.name}, {zenitsu.name}, {inosuke.name} knows total {tanjiro.number_of_technique + zenitsu.number_of_technique + inosuke.number_of_technique} techniques')\n",
        "print(f'They have killed total {tanjiro.kill + zenitsu.kill + inosuke.kill} demons')"
      ],
      "metadata": {
        "colab": {
          "base_uri": "https://localhost:8080/"
        },
        "id": "-veeEKuucJy_",
        "outputId": "14fa6a9c-0d0e-4b9b-ecde-6b0f4e9066d5"
      },
      "execution_count": null,
      "outputs": [
        {
          "output_type": "stream",
          "name": "stdout",
          "text": [
            "Name: Tanjiro\n",
            "Fighting Style: Water Breathing\n",
            "Knows 10 technique(s) and has killed 10 demon(s)\n",
            "===================\n",
            "Name: Zenitsu\n",
            "Fighting Style: Thunder Breathing\n",
            "Knows 1 technique(s) and has killed 4 demon(s)\n",
            "===================\n",
            "Name: Inosuke\n",
            "Fighting Style: Beast Breathing\n",
            "Knows 5 technique(s) and has killed 7 demon(s)\n",
            "===================\n",
            "Tanjiro, Zenitsu, Inosuke knows total 16 techniques\n",
            "They have killed total 21 demons\n"
          ]
        }
      ]
    },
    {
      "cell_type": "code",
      "source": [
        "#Task6 - oop\n",
        "\n",
        "class box:\n",
        "    def __init__(self, index):\n",
        "        self.height = index[0]\n",
        "        self.width = index[1]\n",
        "        self.breadth = index[2]\n",
        "        print(\"Creating a Box!\")\n",
        "        print(f\"Volume of the box is {self.height*self.width*self.breadth} cubic units.\")\n",
        "print(\"Box 1\")\n",
        "b1 = box([10,10,10])\n",
        "print(\"=========================\")\n",
        "print(\"Height:\", b1.height)\n",
        "print(\"Width:\", b1.width)\n",
        "print(\"Breadth:\", b1.breadth)\n",
        "print(\"-------------------------\")\n",
        "print(\"Box 2\")\n",
        "b2 = box((30,10,10))\n",
        "print(\"=========================\")\n",
        "print(\"Height:\", b2.height)\n",
        "print(\"Width:\", b2.width)\n",
        "print(\"Breadth:\", b2.breadth)\n",
        "b2.height = 300\n",
        "print(\"Updating Box 2!\")\n",
        "print(\"Height:\", b2.height)\n",
        "print(\"Width:\", b2.width)\n",
        "print(\"Breadth:\", b2.breadth)\n",
        "print(\"-------------------------\")\n",
        "print(\"Box 3\")\n",
        "b3 = b2\n",
        "print(\"Height:\", b3.height)\n",
        "print(\"Width:\", b3.width)\n",
        "print(\"Breadth:\", b3.breadth)"
      ],
      "metadata": {
        "id": "clz-XQ1IaRaJ",
        "outputId": "a9def662-d29e-4e7c-80d5-449a9dc74577",
        "colab": {
          "base_uri": "https://localhost:8080/"
        }
      },
      "execution_count": null,
      "outputs": [
        {
          "output_type": "stream",
          "name": "stdout",
          "text": [
            "Box 1\n",
            "Creating a Box!\n",
            "Volume of the box is 1000 cubic units.\n",
            "=========================\n",
            "Height: 10\n",
            "Width: 10\n",
            "Breadth: 10\n",
            "-------------------------\n",
            "Box 2\n",
            "Creating a Box!\n",
            "Volume of the box is 3000 cubic units.\n",
            "=========================\n",
            "Height: 30\n",
            "Width: 10\n",
            "Breadth: 10\n",
            "Updating Box 2!\n",
            "Height: 300\n",
            "Width: 10\n",
            "Breadth: 10\n",
            "-------------------------\n",
            "Box 3\n",
            "Height: 300\n",
            "Width: 10\n",
            "Breadth: 10\n"
          ]
        }
      ]
    },
    {
      "cell_type": "code",
      "source": [
        "#Task7\n",
        "\n",
        "class buttons:\n",
        "    def __init__(self, word, spaces, border):\n",
        "        self.word = word\n",
        "        self.spaces = spaces\n",
        "        self.border = border\n",
        "        print(self.word,\"Button Specifications:\")\n",
        "        print(\"Button name: \",self.word)\n",
        "        total = 1+ (2*self.spaces)+ len(self.word)+1\n",
        "        print(\"Number of the border characters for the top and the bottom: \",total)\n",
        "        print(\"Number of spaces between the left side border and the first character of the button name: \",self.spaces)\n",
        "        print(\"Number of spaces between the right side border and the last character of the button name: \",self.spaces)\n",
        "        print(\"Characters representing the borders: \",self.border)\n",
        "        for i in range(3):\n",
        "            if i==0:\n",
        "                for j in range(total):\n",
        "                    print(self.border,end=\"\")\n",
        "                print()\n",
        "            elif i==1:\n",
        "                print(self.border,end=\"\")\n",
        "                print(\" \"*self.spaces,end=\"\")\n",
        "                print(self.word,end=\"\")\n",
        "                print(\" \"* self.spaces, end=\"\")\n",
        "                print(self.border, end=\"\")\n",
        "                print()\n",
        "            elif i==2:\n",
        "                for j in range(total):\n",
        "                    print(self.border,end=\"\")\n",
        "                print()\n",
        "word = \"CANCEL\"\n",
        "spaces = 10\n",
        "border = 'x'\n",
        "b1 = buttons(word, spaces, border)\n",
        "print(\"=======================================================\")\n",
        "b2 = buttons(\"Notify\",3, '!')\n",
        "print(\"=======================================================\")\n",
        "b3 = buttons('SAVE PROGRESS', 5, '$')"
      ],
      "metadata": {
        "colab": {
          "base_uri": "https://localhost:8080/"
        },
        "id": "AkGXAB5uohNt",
        "outputId": "e82106df-d394-45ca-8a55-4aad82510f85"
      },
      "execution_count": null,
      "outputs": [
        {
          "output_type": "stream",
          "name": "stdout",
          "text": [
            "CANCEL Button Specifications:\n",
            "Button name:  CANCEL\n",
            "Number of the border characters for the top and the bottom:  28\n",
            "Number of spaces between the left side border and the first character of the button name:  10\n",
            "Number of spaces between the right side border and the last character of the button name:  10\n",
            "Characters representing the borders:  x\n",
            "xxxxxxxxxxxxxxxxxxxxxxxxxxxx\n",
            "x          CANCEL          x\n",
            "xxxxxxxxxxxxxxxxxxxxxxxxxxxx\n",
            "=======================================================\n",
            "Notify Button Specifications:\n",
            "Button name:  Notify\n",
            "Number of the border characters for the top and the bottom:  14\n",
            "Number of spaces between the left side border and the first character of the button name:  3\n",
            "Number of spaces between the right side border and the last character of the button name:  3\n",
            "Characters representing the borders:  !\n",
            "!!!!!!!!!!!!!!\n",
            "!   Notify   !\n",
            "!!!!!!!!!!!!!!\n",
            "=======================================================\n",
            "SAVE PROGRESS Button Specifications:\n",
            "Button name:  SAVE PROGRESS\n",
            "Number of the border characters for the top and the bottom:  25\n",
            "Number of spaces between the left side border and the first character of the button name:  5\n",
            "Number of spaces between the right side border and the last character of the button name:  5\n",
            "Characters representing the borders:  $\n",
            "$$$$$$$$$$$$$$$$$$$$$$$$$\n",
            "$     SAVE PROGRESS     $\n",
            "$$$$$$$$$$$$$$$$$$$$$$$$$\n"
          ]
        }
      ]
    },
    {
      "cell_type": "code",
      "source": [
        "#Task8\n",
        "\n",
        "class Calculator:\n",
        "    def __init__(self):\n",
        "        self.first_value = int(input())\n",
        "        self.operator = input()\n",
        "        self.second_value = int(input())\n",
        "        print(\"Let's Calculate!\")\n",
        "        print(f\"Value 1: {self.first_value}\")\n",
        "        print(f\"Operator: {self.operator}\")\n",
        "        print(f\"Value 2: {self.second_value}\")\n",
        "\n",
        "        if self.operator == \"+\":\n",
        "            print(\"Result:\",self.add())\n",
        "        elif self.operator == \"-\":\n",
        "           print(\"Result:\",self.subtract())\n",
        "        elif self.operator == \"*\":\n",
        "           print(\"Result:\",self.multiply())\n",
        "        elif self.operator == \"/\":\n",
        "           print(\"Result:\",self.divide())\n",
        "\n",
        "    def add(self):\n",
        "        return self.first_value + self.second_value\n",
        "    def subtract(self):\n",
        "        return self.first_value - self.second_value\n",
        "    def multiply(self):\n",
        "        return self.first_value * self.second_value\n",
        "    def divide(self):\n",
        "        return self.first_value / self.second_value\n",
        "check = Calculator()"
      ],
      "metadata": {
        "colab": {
          "base_uri": "https://localhost:8080/"
        },
        "id": "vmE9v8gEcPwX",
        "outputId": "4bc96f68-c13b-48a2-f88c-85b6da19cee4"
      },
      "execution_count": null,
      "outputs": [
        {
          "output_type": "stream",
          "name": "stdout",
          "text": [
            "1\n",
            "+\n",
            "2\n",
            "Let's Calculate!\n",
            "Value 1: 1\n",
            "Operator: +\n",
            "Value 2: 2\n",
            "Result: 3\n"
          ]
        }
      ]
    },
    {
      "cell_type": "code",
      "source": [
        "#Task9 - oop\n",
        "\n",
        "class Patient:\n",
        "    def __init__(self, name, age, weight, height):\n",
        "        self.name = name\n",
        "        self.age = age\n",
        "        self.weight = weight\n",
        "        self.height = height / 100\n",
        "    def printDetails(self):\n",
        "        print(f\"Name: {self.name}\")\n",
        "        print(f\"Age: {self.age}\")\n",
        "        print(f\"Weight: {self.weight} kg\")\n",
        "        print(f\"Height: {self.height} cm\")\n",
        "        print(f\"BMI: {self.weight / self.height ** 2}\")\n",
        "\n",
        "p1 = Patient(\"A\", 55, 63.0, 158.0)\n",
        "p1.printDetails()\n",
        "print(\"====================\")\n",
        "p2 = Patient(\"B\", 53, 61.0, 149.0)\n",
        "p2.printDetails()"
      ],
      "metadata": {
        "colab": {
          "base_uri": "https://localhost:8080/"
        },
        "id": "noPvwgsbnZz8",
        "outputId": "52d7a1ee-d0c5-4786-b0c7-665f95a265cd"
      },
      "execution_count": null,
      "outputs": [
        {
          "output_type": "stream",
          "name": "stdout",
          "text": [
            "Name: A\n",
            "Age: 55\n",
            "Weight: 63.0 kg\n",
            "Height: 1.58 cm\n",
            "BMI: 25.236340330075304\n",
            "====================\n",
            "Name: B\n",
            "Age: 53\n",
            "Weight: 61.0 kg\n",
            "Height: 1.49 cm\n",
            "BMI: 27.476239809017613\n"
          ]
        }
      ]
    },
    {
      "cell_type": "code",
      "source": [
        "#Task10 - oop\n",
        "\n",
        "class Vehicle:\n",
        "    def __init__(self):\n",
        "        self.x = 0\n",
        "        self.y = 0\n",
        "    def moveUp(self):\n",
        "        self.y += 1\n",
        "    def moveLeft(self):\n",
        "        self.x -= 1\n",
        "    def moveDown(self):\n",
        "        self.y -= 1\n",
        "    def moveRight(self):\n",
        "        self.x -= 1\n",
        "    def print_position(self):\n",
        "        print((self.x,self.y))\n",
        "\n",
        "car = Vehicle()\n",
        "car.print_position()\n",
        "car.moveUp()\n",
        "car.print_position()\n",
        "car.moveLeft()\n",
        "car.print_position()\n",
        "car.moveDown()\n",
        "car.print_position()\n",
        "car.moveRight()"
      ],
      "metadata": {
        "id": "t5mFCIoMcUc_",
        "colab": {
          "base_uri": "https://localhost:8080/"
        },
        "outputId": "814f4da6-9f1f-4963-95d8-d304e1213202"
      },
      "execution_count": null,
      "outputs": [
        {
          "output_type": "stream",
          "name": "stdout",
          "text": [
            "(0, 0)\n",
            "(0, 1)\n",
            "(-1, 1)\n",
            "(-1, 0)\n"
          ]
        }
      ]
    },
    {
      "cell_type": "code",
      "source": [
        "#Task11 - oop\n",
        "\n",
        "class Shape:\n",
        "    def __init__(self, shape, x, y):\n",
        "        self.shape = shape\n",
        "        self.x = x\n",
        "        self.y = y\n",
        "    def area(self):\n",
        "        if self.shape == \"Triangle\":\n",
        "            print(f\"Area: {0.5 * self.x * self.y}\")\n",
        "        elif self.shape == \"Rectangle\":\n",
        "            print(f\"Area: {self.x * self.y}\")\n",
        "        elif self.shape == \"Rhombus\":\n",
        "            print(f\"Area: {0.5 * self.x * self.y}\")\n",
        "        elif self.shape == \"Square\":\n",
        "            print(f\"Area: {self.x * self.y}\")\n",
        "        elif self.shape == \"Trapezium\":\n",
        "            print(\"Area: Shape unknown\")\n",
        "\n",
        "triangle = Shape(\"Triangle\",10,25)\n",
        "triangle.area()\n",
        "print(\"==========================\")\n",
        "square = Shape(\"Square\",10,10)\n",
        "square.area()\n",
        "print(\"==========================\")\n",
        "rhombus = Shape(\"Rhombus\",18,25)\n",
        "rhombus.area()\n",
        "print(\"==========================\")\n",
        "rectangle = Shape(\"Rectangle\",15,30)\n",
        "rectangle.area()\n",
        "print(\"==========================\")\n",
        "trapezium = Shape(\"Trapezium\",15,30)\n",
        "trapezium.area()"
      ],
      "metadata": {
        "colab": {
          "base_uri": "https://localhost:8080/"
        },
        "id": "UkNapcHaq4th",
        "outputId": "c8afd5c3-8216-4a12-bba1-41da6c51fe45"
      },
      "execution_count": null,
      "outputs": [
        {
          "output_type": "stream",
          "name": "stdout",
          "text": [
            "Area: 125.0\n",
            "==========================\n",
            "Area: 100\n",
            "==========================\n",
            "Area: 225.0\n",
            "==========================\n",
            "Area: 450\n",
            "==========================\n",
            "Area: Shape unknown\n"
          ]
        }
      ]
    },
    {
      "cell_type": "code",
      "source": [
        "#Task12 - oop\n",
        "\n",
        "class Calculator:\n",
        "    def __init__(self):\n",
        "        print(\"Calculator is ready!\")\n",
        "    def calculate(self, val1, val2, op):\n",
        "        self.val1 = val1\n",
        "        self.val2 = val2\n",
        "        self.op = op\n",
        "\n",
        "        if self.op == \"+\":\n",
        "            self.result = self.val1 + self.val2\n",
        "            return self.result\n",
        "        elif self.op == \"-\":\n",
        "           self.result = self.val1 - self.val2\n",
        "           return self.result\n",
        "        elif self.op == \"*\":\n",
        "           self.result = self.val1 * self.val2\n",
        "           return self.result\n",
        "        elif self.op == \"/\":\n",
        "           self.result = self.val1 / self.val2\n",
        "           return self.result\n",
        "\n",
        "    def showCalculation(self):\n",
        "        print(f\"{self.val1} {self.op} {self.val2} = {self.result}\")\n",
        "\n",
        "\n",
        "\n",
        "\n",
        "c1 = Calculator()\n",
        "print(\"==================\")\n",
        "val = c1.calculate(10, 20, '+')\n",
        "print(\"Returned value:\", val)\n",
        "c1.showCalculation()\n",
        "print(\"==================\")\n",
        "val = c1.calculate(val, 10, '-')\n",
        "print(\"Returned value:\", val)\n",
        "c1.showCalculation()\n",
        "print(\"==================\")\n",
        "val = c1.calculate(val, 5, '*')\n",
        "print(\"Returned value:\", val)\n",
        "c1.showCalculation()\n",
        "print(\"==================\")\n",
        "val = c1.calculate(val, 16, '/')\n",
        "print(\"Returned value:\", val)\n",
        "c1.showCalculation()\n"
      ],
      "metadata": {
        "colab": {
          "base_uri": "https://localhost:8080/"
        },
        "id": "sed8xsnOSQo8",
        "outputId": "ba44708e-a547-45b0-ea22-cf32e106b3d6"
      },
      "execution_count": null,
      "outputs": [
        {
          "output_type": "stream",
          "name": "stdout",
          "text": [
            "Calculator is ready!\n",
            "==================\n",
            "Returned value: 30\n",
            "10 + 20 = 30\n",
            "==================\n",
            "Returned value: 20\n",
            "30 - 10 = 20\n",
            "==================\n",
            "Returned value: 100\n",
            "20 * 5 = 100\n",
            "==================\n",
            "Returned value: 6.25\n",
            "100 / 16 = 6.25\n"
          ]
        }
      ]
    },
    {
      "cell_type": "code",
      "source": [
        "#Task13 - oop\n",
        "\n",
        "class Programmer:\n",
        "    def __init__ (self, name, language, experience):\n",
        "        print(f\"Horray! A new programmer is born\")\n",
        "        self.name = name\n",
        "        self.language = language\n",
        "        self.experience = experience\n",
        "    def printDetails(self):\n",
        "        print(f\"Name: {self.name}\")\n",
        "        print(f\"Language: {self.language}\")\n",
        "        print(f\"Experience: {self.experience} years.\")\n",
        "    def addExp(self, add):\n",
        "        print(f\"Updating experience of {self.name}\")\n",
        "        self.experience += add\n",
        "\n",
        "p1 = Programmer(\"Ethen Hunt\", \"Java\", 10)\n",
        "p1.printDetails()\n",
        "print('--------------------------')\n",
        "p2 = Programmer(\"James Bond\", \"C++\", 7)\n",
        "p2.printDetails()\n",
        "print('--------------------------')\n",
        "p3 = Programmer(\"Jon Snow\", \"Python\", 4)\n",
        "p3.printDetails()\n",
        "p3.addExp(5)\n",
        "p3.printDetails()\n"
      ],
      "metadata": {
        "colab": {
          "base_uri": "https://localhost:8080/"
        },
        "id": "tWPutcifcQ-_",
        "outputId": "cb687bf7-bc0e-44a5-b2bf-37c29746a233"
      },
      "execution_count": null,
      "outputs": [
        {
          "output_type": "stream",
          "name": "stdout",
          "text": [
            "Horray! A new programmer is born\n",
            "Name: Ethen Hunt\n",
            "Language: Java\n",
            "Experience: 10 years.\n",
            "--------------------------\n",
            "Horray! A new programmer is born\n",
            "Name: James Bond\n",
            "Language: C++\n",
            "Experience: 7 years.\n",
            "--------------------------\n",
            "Horray! A new programmer is born\n",
            "Name: Jon Snow\n",
            "Language: Python\n",
            "Experience: 4 years.\n",
            "Updating experience of Jon Snow\n",
            "Name: Jon Snow\n",
            "Language: Python\n",
            "Experience: 9 years.\n"
          ]
        }
      ]
    },
    {
      "cell_type": "code",
      "source": [
        "class Test:\n",
        "    def __init__(self):\n",
        "        self.sum = 0\n",
        "        self.y = 0\n",
        "\n",
        "\n",
        "    def methodA(self):\n",
        "        x=0\n",
        "        y=0\n",
        "        y = y + 7\n",
        "        x = y + 11\n",
        "        self.sum = x + y\n",
        "        print(x , y, self.sum)\n",
        "\n",
        "\n",
        "    def methodB(self):\n",
        "        x = 0\n",
        "        self.y = self.y + 11\n",
        "        x = x + 33 + self.y\n",
        "        self.sum = self.sum + x + self.y\n",
        "        print(x , self.y, self.sum)"
      ],
      "metadata": {
        "colab": {
          "base_uri": "https://localhost:8080/",
          "height": 200
        },
        "id": "rcmoobToiHr2",
        "outputId": "389821d4-8f36-427c-9bc0-796f4dd7c28e"
      },
      "execution_count": null,
      "outputs": [
        {
          "output_type": "error",
          "ename": "NameError",
          "evalue": "ignored",
          "traceback": [
            "\u001b[0;31m---------------------------------------------------------------------------\u001b[0m",
            "\u001b[0;31mNameError\u001b[0m                                 Traceback (most recent call last)",
            "\u001b[0;32m<ipython-input-34-bfb84eb5953d>\u001b[0m in \u001b[0;36m<module>\u001b[0;34m\u001b[0m\n\u001b[1;32m     21\u001b[0m         \u001b[0mprint\u001b[0m\u001b[0;34m(\u001b[0m\u001b[0mx\u001b[0m \u001b[0;34m,\u001b[0m \u001b[0mself\u001b[0m\u001b[0;34m.\u001b[0m\u001b[0my\u001b[0m\u001b[0;34m,\u001b[0m \u001b[0mself\u001b[0m\u001b[0;34m.\u001b[0m\u001b[0msum\u001b[0m\u001b[0;34m)\u001b[0m\u001b[0;34m\u001b[0m\u001b[0;34m\u001b[0m\u001b[0m\n\u001b[1;32m     22\u001b[0m \u001b[0;34m\u001b[0m\u001b[0m\n\u001b[0;32m---> 23\u001b[0;31m \u001b[0mprint\u001b[0m\u001b[0;34m(\u001b[0m\u001b[0mx\u001b[0m\u001b[0;34m,\u001b[0m \u001b[0mself\u001b[0m\u001b[0;34m.\u001b[0m\u001b[0my\u001b[0m\u001b[0;34m,\u001b[0m \u001b[0mself\u001b[0m\u001b[0;34m.\u001b[0m\u001b[0msum\u001b[0m\u001b[0;34m)\u001b[0m\u001b[0;34m\u001b[0m\u001b[0;34m\u001b[0m\u001b[0m\n\u001b[0m",
            "\u001b[0;31mNameError\u001b[0m: name 'x' is not defined"
          ]
        }
      ]
    },
    {
      "cell_type": "code",
      "source": [
        "#Task 14 - tracing\n",
        "\n",
        "class Test:\n",
        "    def __init__(self):\n",
        "        self.sum = 0\n",
        "        self.y = 0\n",
        "    def methodA(self):\n",
        "        x=0\n",
        "        y=0\n",
        "        y = y + 7\n",
        "        x = y + 11\n",
        "        self.sum = x + y\n",
        "        print(x , y, self.sum)\n",
        "    def methodB(self):\n",
        "        x = 0\n",
        "        self.y = self.y + 11\n",
        "        x = x + 33 + self.y\n",
        "        self.sum = self.sum + x + self.y\n",
        "        print(x , self.y, self.sum)\n",
        "\n",
        "t1 = Test()\n",
        "t1.methodA()\n",
        "t1.methodA()\n",
        "t1.methodB()\n",
        "t1.methodB()"
      ],
      "metadata": {
        "colab": {
          "base_uri": "https://localhost:8080/"
        },
        "id": "MXSQ4ayhbAfj",
        "outputId": "60890765-d4f6-42be-bf34-8211ecd29d94"
      },
      "execution_count": null,
      "outputs": [
        {
          "output_type": "stream",
          "name": "stdout",
          "text": [
            "18 7 25\n",
            "18 7 25\n",
            "44 11 80\n",
            "55 22 157\n"
          ]
        }
      ]
    },
    {
      "cell_type": "code",
      "source": [
        "#Task15 - tracing\n",
        "\n",
        "class Scope:\n",
        "    def __init__(self):\n",
        "        self.x, self.y = 1, 100\n",
        "    def met1(self):\n",
        "        x = 3\n",
        "        x = self.x + 1\n",
        "        self.y = self.y + self.x + 1\n",
        "        x = self.y + self.met2() + self.y\n",
        "        print(x, self.y)\n",
        "    def met2(self):\n",
        "        y = 0\n",
        "        print(self.x, y)\n",
        "        self.x = self.x + y\n",
        "        self.y = self.y + 200\n",
        "        return self.x + y\n",
        "\n",
        "q2 = Scope()\n",
        "q2.met1()\n",
        "q2.met2()\n",
        "q2.met1()\n",
        "q2.met2()"
      ],
      "metadata": {
        "colab": {
          "base_uri": "https://localhost:8080/"
        },
        "id": "YyarhYtVcNwb",
        "outputId": "454ceb12-57f0-471c-dad8-58f7094a0b63"
      },
      "execution_count": null,
      "outputs": [
        {
          "output_type": "stream",
          "name": "stdout",
          "text": [
            "1 0\n",
            "405 302\n",
            "1 0\n",
            "1 0\n",
            "1209 704\n",
            "1 0\n"
          ]
        },
        {
          "output_type": "execute_result",
          "data": {
            "text/plain": [
              "1"
            ]
          },
          "metadata": {},
          "execution_count": 2
        }
      ]
    },
    {
      "cell_type": "code",
      "source": [
        "#Task 16\n",
        "\n",
        "class Test3:\n",
        "    def __init__(self):\n",
        "        self.sum, self.y = 0, 0\n",
        "    def methodA(self):\n",
        "        x, y = 2, 3\n",
        "        msg = [0]\n",
        "        msg[0] = 3\n",
        "        y = self.y + msg[0]\n",
        "        self.methodB(msg, msg[0])\n",
        "        x = self.y + msg[0]\n",
        "        self.sum = x + y + msg[0]\n",
        "        print(x, y, self.sum)\n",
        "    def methodB(self, mg2, mg1):\n",
        "        x = 0\n",
        "        self.y = self.y + mg2[0]\n",
        "        x = x + 33 + mg1\n",
        "        self.sum = self.sum + x + self.y\n",
        "        mg2[0] = self.y + mg1\n",
        "        mg1 = mg1 + x + 2\n",
        "        print(x, self.y, self.sum)\n",
        "\n",
        "t3 = Test3()\n",
        "t3.methodA()\n",
        "t3.methodA()\n",
        "t3.methodA()\n",
        "t3.methodA()"
      ],
      "metadata": {
        "colab": {
          "base_uri": "https://localhost:8080/"
        },
        "id": "Xj_6CBlb7LmJ",
        "outputId": "77f70994-080f-414a-e756-7e85d604a447"
      },
      "execution_count": null,
      "outputs": [
        {
          "output_type": "stream",
          "name": "stdout",
          "text": [
            "36 3 39\n",
            "9 3 18\n",
            "36 6 60\n",
            "15 6 30\n",
            "36 9 75\n",
            "21 9 42\n",
            "36 12 90\n",
            "27 12 54\n"
          ]
        }
      ]
    },
    {
      "cell_type": "code",
      "source": [
        "#Task 17\n",
        "\n",
        "class Test5:\n",
        "    def __init__(self):\n",
        "        self.sum, self.y = 0, 0\n",
        "    def methodA(self):\n",
        "        x = 0\n",
        "        z = 0\n",
        "        while (z < 5):\n",
        "            self.y = self.y + self.sum\n",
        "            x = self.y + 1\n",
        "            print(x, self.y, self.sum)\n",
        "            self.sum = self.sum + self.methodB(x, self.y)\n",
        "            z += 1\n",
        "    def methodB(self, m, n):\n",
        "        x = 0\n",
        "        sum = 0\n",
        "        self.y = self.y + m\n",
        "        x = n - 4\n",
        "        sum = sum + self.y\n",
        "        print(x, self.y, sum)\n",
        "        return self.sum\n",
        "\n",
        "t5 = Test5()\n",
        "t5.methodA()\n"
      ],
      "metadata": {
        "colab": {
          "base_uri": "https://localhost:8080/"
        },
        "id": "ks6AuwNdDWZg",
        "outputId": "2120f272-0180-42cb-ba59-5eba21de1d83"
      },
      "execution_count": null,
      "outputs": [
        {
          "output_type": "stream",
          "name": "stdout",
          "text": [
            "1 0 0\n",
            "-4 1 1\n",
            "2 1 0\n",
            "-3 3 3\n",
            "4 3 0\n",
            "-1 7 7\n",
            "8 7 0\n",
            "3 15 15\n",
            "16 15 0\n",
            "11 31 31\n"
          ]
        }
      ]
    }
  ]
}