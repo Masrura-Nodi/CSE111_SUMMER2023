{
  "nbformat": 4,
  "nbformat_minor": 0,
  "metadata": {
    "colab": {
      "provenance": []
    },
    "kernelspec": {
      "name": "python3",
      "display_name": "Python 3"
    },
    "language_info": {
      "name": "python"
    }
  },
  "cells": [
    {
      "cell_type": "code",
      "source": [
        "#Task1\n",
        "\n",
        "def fraction(numerator, denominator):\n",
        "    if denominator == 0:\n",
        "        return 0\n",
        "    else:\n",
        "        result1 = numerator / denominator\n",
        "        result2 = numerator // denominator\n",
        "        result = result1 - result2\n",
        "        if result == 0.0:\n",
        "            return 0\n",
        "        else:\n",
        "            return result\n",
        "\n",
        "fraction(5, 0)"
      ],
      "metadata": {
        "id": "dCQe95yGbiXI",
        "colab": {
          "base_uri": "https://localhost:8080/"
        },
        "outputId": "e1e85af7-7c04-4ff8-86cd-49497303324d"
      },
      "execution_count": null,
      "outputs": [
        {
          "output_type": "execute_result",
          "data": {
            "text/plain": [
              "0"
            ]
          },
          "metadata": {},
          "execution_count": 3
        }
      ]
    },
    {
      "cell_type": "code",
      "source": [
        "#Task2\n",
        "\n",
        "def BMI_values(height, weight):\n",
        "    BMI = weight / (height / 100) ** 2\n",
        "    if BMI < 18.5:\n",
        "        output = \"Underweight\"\n",
        "    elif 18.5 <= BMI <= 24.9:\n",
        "        output = \"Normal\"\n",
        "    elif 25 <= BMI <= 30:\n",
        "        output = \"Overweight\"\n",
        "    elif BMI > 30:\n",
        "        output = \"Obese\"\n",
        "    result = f\"Score is {BMI:.1f}. You are {output}\"\n",
        "    return result\n",
        "\n",
        "print(BMI_values(175, 96))"
      ],
      "metadata": {
        "colab": {
          "base_uri": "https://localhost:8080/"
        },
        "id": "0aEEQwJ4Vrky",
        "outputId": "c7b4f2b3-6c3d-477f-b592-51989d3a6926"
      },
      "execution_count": null,
      "outputs": [
        {
          "output_type": "stream",
          "name": "stdout",
          "text": [
            "Score is 31.3. You are Obese\n"
          ]
        }
      ]
    },
    {
      "cell_type": "code",
      "source": [
        "#Task3\n",
        "\n",
        "def divisible(minimum, maximum, divisor):\n",
        "  value = 0\n",
        "  for n in range(minimum, maximum):\n",
        "    if n % divisor == 0:\n",
        "      value += n\n",
        "  return value\n",
        "\n",
        "divisible(0, 10, 2)"
      ],
      "metadata": {
        "colab": {
          "base_uri": "https://localhost:8080/"
        },
        "id": "ew36qAwo5lIA",
        "outputId": "5d30d25f-da14-4036-f7e2-7af10963ccbb"
      },
      "execution_count": null,
      "outputs": [
        {
          "output_type": "stream",
          "name": "stdout",
          "text": [
            "20\n"
          ]
        }
      ]
    },
    {
      "cell_type": "code",
      "source": [
        "#Task3\n",
        "\n",
        "def divisible(minimum, maximum, divisor):\n",
        "    if divisor != 0:\n",
        "        return sum(number for number in range(minimum, maximum) if number % divisor == 0)\n",
        "\n",
        "divisible(0, 10, 2)"
      ],
      "metadata": {
        "colab": {
          "base_uri": "https://localhost:8080/"
        },
        "id": "rV3tYMZxYP1s",
        "outputId": "d133c84d-5081-42b3-ff31-407d1512b0ba"
      },
      "execution_count": null,
      "outputs": [
        {
          "output_type": "execute_result",
          "data": {
            "text/plain": [
              "20"
            ]
          },
          "metadata": {},
          "execution_count": 12
        }
      ]
    },
    {
      "cell_type": "code",
      "source": [
        "#Task4\n",
        "\n",
        "def order(meal, location = \"Mohakhali\"):\n",
        "    if location == \"Mohakhali\":\n",
        "        delivery_charge = 40\n",
        "    else:\n",
        "        delivery_charge = 60\n",
        "    if meal == \"BBQ Chicken Chesse Burger\":\n",
        "        meal_cost = 250\n",
        "    elif meal == \"Beef Burger\":\n",
        "        meal_cost = 170\n",
        "    elif meal == \"Naga Drums\":\n",
        "        meal_cost = 200\n",
        "    tax = meal_cost * (8 / 100)\n",
        "    Total_Price = meal_cost + delivery_charge + tax\n",
        "    return Total_Price\n",
        "\n",
        "order(\"Beef Burger\")"
      ],
      "metadata": {
        "colab": {
          "base_uri": "https://localhost:8080/"
        },
        "id": "DgM5TCaGY0zy",
        "outputId": "cffca032-eb5d-4a2b-9922-c4161526188d"
      },
      "execution_count": null,
      "outputs": [
        {
          "output_type": "execute_result",
          "data": {
            "text/plain": [
              "223.6"
            ]
          },
          "metadata": {},
          "execution_count": 21
        }
      ]
    },
    {
      "cell_type": "code",
      "source": [
        "#Task5\n",
        "\n",
        "def replace_domain(email_add, new_domain,\n",
        "                   old_domain = \"kaaj.com\"):\n",
        "\n",
        "    for m in range(len(email_add)):\n",
        "        if email_add[m] == \"@\":\n",
        "            add = m\n",
        "            break\n",
        "    new_email = email_add[:m+1]\n",
        "    if old_domain in email_add:\n",
        "        new_email += new_domain\n",
        "        output = \"Changed\"\n",
        "    else:\n",
        "        new_email += new_domain\n",
        "        output = \"Unchanged\"\n",
        "    Output = f\"{output}: {new_email}\"\n",
        "    return Output\n",
        "print(replace_domain(\"alice@kaaj.com\", \"sheba.xyz\",\n",
        "                     \"kaaj.com\"))"
      ],
      "metadata": {
        "colab": {
          "base_uri": "https://localhost:8080/"
        },
        "id": "3IrBF4GuY0xd",
        "outputId": "e769f596-252b-49ff-979d-2ad94c3f50a4"
      },
      "execution_count": null,
      "outputs": [
        {
          "output_type": "stream",
          "name": "stdout",
          "text": [
            "Changed: alice@sheba.xyz\n"
          ]
        }
      ]
    },
    {
      "cell_type": "code",
      "source": [
        "#Task6\n",
        "\n",
        "def vowel(full_name):\n",
        "    vowels = \"aeiouAEIOU\"\n",
        "    vowel = \"\"\n",
        "    total = 0\n",
        "    for m in full_name:\n",
        "        if m in vowels:\n",
        "            vowel += m + \", \"\n",
        "            total += 1\n",
        "    if total == 0:\n",
        "        return \"No vowels in the name\"\n",
        "    else:\n",
        "        output = f\"Vowels: {vowel[:-2]}. Total number of vowels: {total}\"\n",
        "        return output\n",
        "full_name = input(\"Enter your full name: \")\n",
        "print(vowel(full_name))"
      ],
      "metadata": {
        "colab": {
          "base_uri": "https://localhost:8080/"
        },
        "id": "JS3cv6nLdltH",
        "outputId": "2ebe658e-bf7f-495c-fc2f-518c7cb7e63b"
      },
      "execution_count": null,
      "outputs": [
        {
          "output_type": "stream",
          "name": "stdout",
          "text": [
            "Enter your full name: nodi\n",
            "Vowels: o, i. Total number of vowels: 2\n"
          ]
        }
      ]
    },
    {
      "cell_type": "code",
      "source": [
        "#Task7\n",
        "\n",
        "def palindrome(word):\n",
        "    forward = \"\"\n",
        "    backward = \"\"\n",
        "    for w in range(len(word)):\n",
        "        if word[w] == ' ':\n",
        "            continue\n",
        "        else:\n",
        "            forward += word[w]\n",
        "    for w in range(-1,-(len(forward)+1),-1):\n",
        "        backward += forward[w]\n",
        "    if forward == backward:\n",
        "        print(\"Palindrome\")\n",
        "    else:\n",
        "        print(\"Not a palindrome\")\n",
        "\n",
        "word = input(\"Enter the given string: \")\n",
        "palindrome(word)"
      ],
      "metadata": {
        "colab": {
          "base_uri": "https://localhost:8080/"
        },
        "id": "NyzwBcPsebQJ",
        "outputId": "8a37cec5-a567-478c-8900-09badae95284"
      },
      "execution_count": null,
      "outputs": [
        {
          "output_type": "stream",
          "name": "stdout",
          "text": [
            "Enter the given string: madam\n",
            "Palindrome\n"
          ]
        }
      ]
    },
    {
      "cell_type": "code",
      "source": [
        "#Task7\n",
        "\n",
        "def palindrome(word):\n",
        "    string = \"\"\n",
        "    for i in word:\n",
        "        if i != \" \":\n",
        "            string += i\n",
        "    if string == string[::-1]:\n",
        "        print(\"Palindrome\")\n",
        "    else:\n",
        "        print(\"Not a palindrome\")\n",
        "\n",
        "word = input(\"Enter: \")\n",
        "palindrome(word)"
      ],
      "metadata": {
        "colab": {
          "base_uri": "https://localhost:8080/"
        },
        "id": "EloVEPimg4GP",
        "outputId": "3b10310c-f879-41aa-c64a-380781aa73c9"
      },
      "execution_count": null,
      "outputs": [
        {
          "output_type": "stream",
          "name": "stdout",
          "text": [
            "Enter: madam\n",
            "Palindrome\n"
          ]
        }
      ]
    },
    {
      "cell_type": "code",
      "source": [
        "#Task8\n",
        "\n",
        "def day(number_of_days):\n",
        "    year =  number_of_days // 365\n",
        "    days = number_of_days %  365\n",
        "    month = days // 30\n",
        "    days = days % 30\n",
        "    output = f\"{year} years, {month} months and {days} days\"\n",
        "    return output\n",
        "\n",
        "number_of_days = int(input(\"Enter the days: \"))\n",
        "print(day(number_of_days))"
      ],
      "metadata": {
        "colab": {
          "base_uri": "https://localhost:8080/"
        },
        "id": "upUEwgSnePcq",
        "outputId": "b51772fc-8d2c-4782-d114-1523742a322c"
      },
      "execution_count": null,
      "outputs": [
        {
          "output_type": "stream",
          "name": "stdout",
          "text": [
            "Enter the days: 4321\n",
            "11 years, 10 months and 6 days\n"
          ]
        }
      ]
    },
    {
      "cell_type": "code",
      "source": [
        "#Task9\n",
        "\n",
        "def capitalize(string):\n",
        "    punctuation= \".?!\"\n",
        "    newstring = \"\"\n",
        "    space = 0\n",
        "    pnc = 0\n",
        "    for i in range(len(string)):\n",
        "        if i == 0:\n",
        "            newstring += string[i].upper()\n",
        "            continue\n",
        "        else:\n",
        "            if string[i] in punctuation:\n",
        "                pnc +=1\n",
        "                newstring += string[i]\n",
        "            elif string[i] == \" \":\n",
        "                space +=1\n",
        "                newstring += string[i]\n",
        "            elif pnc == 1 and space == 1:\n",
        "                newstring += string[i].upper()\n",
        "                pnc = 0\n",
        "                space = 0\n",
        "            elif space == 1 and string[i] == \"i\":\n",
        "                if string[i+1] == \" \":\n",
        "                    newstring += string[i].upper()\n",
        "                else:\n",
        "                    newstring += string[i]\n",
        "                space = 0\n",
        "                pnc = 0\n",
        "            else:\n",
        "                newstring += string[i]\n",
        "                space = 0\n",
        "                pnc = 0\n",
        "    return newstring\n",
        "\n",
        "print(capitalize(\"my favourite animal is a dog. a dog has sharp teeth so that it can eat flesh very easily. do you know my pet dog’s name? i love my pet very much.\"))"
      ],
      "metadata": {
        "id": "D-aBChK053w-",
        "colab": {
          "base_uri": "https://localhost:8080/"
        },
        "outputId": "4072f8d9-cd37-4c1b-b759-b29ff09dcd55"
      },
      "execution_count": null,
      "outputs": [
        {
          "output_type": "stream",
          "name": "stdout",
          "text": [
            "My favourite animal is a dog. A dog has sharp teeth so that it can eat flesh very easily. Do you know my pet dog’s name? I love my pet very much.\n"
          ]
        }
      ]
    }
  ]
}