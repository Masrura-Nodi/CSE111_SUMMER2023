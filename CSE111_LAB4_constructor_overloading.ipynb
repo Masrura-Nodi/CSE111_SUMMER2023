{
  "nbformat": 4,
  "nbformat_minor": 0,
  "metadata": {
    "colab": {
      "provenance": []
    },
    "kernelspec": {
      "name": "python3",
      "display_name": "Python 3"
    },
    "language_info": {
      "name": "python"
    }
  },
  "cells": [
    {
      "cell_type": "code",
      "execution_count": null,
      "metadata": {
        "colab": {
          "base_uri": "https://localhost:8080/"
        },
        "id": "Gq52i_nSbWy_",
        "outputId": "5d2ec970-9986-4838-e9f7-ace57b8c0edb"
      },
      "outputs": [
        {
          "output_type": "stream",
          "name": "stdout",
          "text": [
            "Hello!\n",
            "Sam, you purchased 3 item(s):\n",
            "chips\n",
            "chocolate\n",
            "orange juice\n",
            "-----------------------------\n",
            "Hello David!\n",
            "David, you purchased 1 item(s):\n",
            "orange juice\n"
          ]
        }
      ],
      "source": [
        "#Task1\n",
        "\n",
        "class Customer:\n",
        "    def __init__(self, name):\n",
        "        self.name = name\n",
        "    def greet(self, name = None):\n",
        "        if name == None:\n",
        "            print(\"Hello!\")\n",
        "        else:\n",
        "            print(f\"Hello {self.name}!\")\n",
        "    def purchase(self, *items):\n",
        "        print(f\"{self.name}, you purchased {len(items)} item(s):\")\n",
        "        for m in items:\n",
        "            print(m)\n",
        "\n",
        "customer_1 = Customer(\"Sam\")\n",
        "customer_1.greet()\n",
        "customer_1.purchase(\"chips\", \"chocolate\", \"orange juice\")\n",
        "print(\"-----------------------------\")\n",
        "customer_2 = Customer(\"David\")\n",
        "customer_2.greet(\"David\")\n",
        "customer_2.purchase(\"orange juice\")"
      ]
    },
    {
      "cell_type": "code",
      "source": [
        "#Task2\n",
        "\n",
        "class Panda:\n",
        "    def __init__(self, name, gender, age):\n",
        "        self.name = name\n",
        "        self.gender = gender\n",
        "        self.age = age\n",
        "    def sleep(self, hours = None):\n",
        "        if hours == None:\n",
        "            return (f\"{self.name} duration is unknown thus should have only bamboo leaves\")\n",
        "        elif 3 <= hours <= 5:\n",
        "            return (f\"{self.name} sleeps {hours} hours daily and should have Mixed Veggies\")\n",
        "        elif 6 <= hours <= 8:\n",
        "            return (f\"{self.name} sleeps {hours} hours daily and should have Eggplant & Tofu\")\n",
        "        elif 9 <= hours <= 11:\n",
        "            return (f\"{self.name} sleeps {hours} hours daily and should have Broccoli Chicken\")\n",
        "\n",
        "panda1 = Panda(\"Kunfu\", \"Male\", 5)\n",
        "panda2 = Panda(\"Pan Pan\", \"Female\",3)\n",
        "panda3 = Panda(\"Ming Ming\", \"Female\",8)\n",
        "print(\"{} is a {} Panda Bear who is {} years old\".format(panda1.name,panda1.gender,panda1.age))\n",
        "print(\"{} is a {} Panda Bear who is {} years old\".format(panda2.name,panda2.gender,panda2.age))\n",
        "print(\"{} is a {} Panda Bear who is {} years old\".format(panda3.name,panda3.gender,panda3.age))\n",
        "print(\"===========================\")\n",
        "print(panda2.sleep(10))\n",
        "print(panda1.sleep(4))\n",
        "print(panda3.sleep())"
      ],
      "metadata": {
        "colab": {
          "base_uri": "https://localhost:8080/"
        },
        "id": "NZgnrbZFfqKv",
        "outputId": "8f61acb5-7435-461d-a1de-91be1e41c9f8"
      },
      "execution_count": null,
      "outputs": [
        {
          "output_type": "stream",
          "name": "stdout",
          "text": [
            "Kunfu is a Male Panda Bear who is 5 years old\n",
            "Pan Pan is a Female Panda Bear who is 3 years old\n",
            "Ming Ming is a Female Panda Bear who is 8 years old\n",
            "===========================\n",
            "Pan Pan sleeps 10 hours daily and should have Broccoli Chicken\n",
            "Kunfu sleeps 4 hours daily and should have Mixed Veggies\n",
            "Ming Ming duration is unknown thus should have only bamboo leaves\n"
          ]
        }
      ]
    },
    {
      "cell_type": "code",
      "source": [
        "#Task3\n",
        "\n",
        "class Cat:\n",
        "    def __init__(self, color = \"White\", work = \"sitting\"):\n",
        "        self.color = color\n",
        "        self.work = work\n",
        "    def changeColor(self, color):\n",
        "        self.color = color\n",
        "    def printCat(self):\n",
        "        print(f\"{self.color} cat is {self.work}\")\n",
        "\n",
        "c1 = Cat()\n",
        "c2 = Cat(\"Black\")\n",
        "c3 = Cat(\"Brown\", \"jumping\")\n",
        "c4 = Cat(\"Red\", \"purring\")\n",
        "c1.printCat()\n",
        "c2.printCat()\n",
        "c3.printCat()\n",
        "c4.printCat()\n",
        "c1.changeColor(\"Blue\")\n",
        "c3.changeColor(\"Purple\")\n",
        "c1.printCat()\n",
        "c3.printCat()"
      ],
      "metadata": {
        "colab": {
          "base_uri": "https://localhost:8080/"
        },
        "id": "TLfJkNE9idk6",
        "outputId": "f84c526f-6895-4e64-be67-044fd76af95b"
      },
      "execution_count": null,
      "outputs": [
        {
          "output_type": "stream",
          "name": "stdout",
          "text": [
            "White cat is sitting\n",
            "Black cat is sitting\n",
            "Brown cat is jumping\n",
            "Red cat is purring\n",
            "Blue cat is sitting\n",
            "Purple cat is jumping\n"
          ]
        }
      ]
    },
    {
      "cell_type": "code",
      "source": [
        "#Task3\n",
        "\n",
        "class Cat:\n",
        "    def __init__(self, color = \"White\", work = \"sitting\"):\n",
        "        self.color = color\n",
        "        self.work = work\n",
        "    def printCat(self):\n",
        "        print(f\"{self.color} cat is {self.work}\")\n",
        "    def changeColor(self, change_color):\n",
        "        self.color = change_color\n",
        "\n",
        "c1 = Cat()\n",
        "c2 = Cat(\"Black\")\n",
        "c3 = Cat(\"Brown\", \"jumping\")\n",
        "c4 = Cat(\"Red\", \"purring\")\n",
        "c1.printCat()\n",
        "c2.printCat()\n",
        "c3.printCat()\n",
        "c4.printCat()\n",
        "c1.changeColor(\"Blue\")\n",
        "c3.changeColor(\"Purple\")\n",
        "c1.printCat()\n",
        "c3.printCat()"
      ],
      "metadata": {
        "colab": {
          "base_uri": "https://localhost:8080/"
        },
        "id": "7Q3tOv3Cnq93",
        "outputId": "1714d6d9-af37-41cc-f64f-8f91a136012b"
      },
      "execution_count": null,
      "outputs": [
        {
          "output_type": "stream",
          "name": "stdout",
          "text": [
            "White cat is sitting\n",
            "Black cat is sitting\n",
            "Brown cat is jumping\n",
            "Red cat is purring\n",
            "Blue cat is sitting\n",
            "Purple cat is jumping\n"
          ]
        }
      ]
    },
    {
      "cell_type": "code",
      "source": [
        "#Task4\n",
        "\n",
        "class Student:\n",
        "    def __init__(self, name = \"default student\"):\n",
        "       self.name = name\n",
        "    def quizcalc(self, *score):\n",
        "       average = sum(list(score)) / 3\n",
        "       self.comment = f\"Your average quiz score is {average}\"\n",
        "    def printdetail(self):\n",
        "       print(f\"Hello {self.name}\")\n",
        "       print(self.comment)\n",
        "\n",
        "s1 = Student()\n",
        "s1.quizcalc(10)\n",
        "print('--------------------------------')\n",
        "s1.printdetail()\n",
        "s2 = Student('Harry')\n",
        "s2.quizcalc(10,8)\n",
        "print('--------------------------------')\n",
        "s2.printdetail()\n",
        "s3 = Student('Hermione')\n",
        "s3.quizcalc(10,9,10)\n",
        "print('--------------------------------')\n",
        "s3.printdetail()"
      ],
      "metadata": {
        "colab": {
          "base_uri": "https://localhost:8080/"
        },
        "id": "0wmZ2QChtFnY",
        "outputId": "094133b2-6296-4f42-caac-9c7240829c17"
      },
      "execution_count": null,
      "outputs": [
        {
          "output_type": "stream",
          "name": "stdout",
          "text": [
            "--------------------------------\n",
            "Hello default student\n",
            "Your average quiz score is 3.3333333333333335\n",
            "--------------------------------\n",
            "Hello Harry\n",
            "Your average quiz score is 6.0\n",
            "--------------------------------\n",
            "Hello Hermione\n",
            "Your average quiz score is 9.666666666666666\n"
          ]
        }
      ]
    },
    {
      "cell_type": "code",
      "source": [
        "#Task5\n",
        "\n",
        "class Student:\n",
        "    def __init__(self, name, id, dept = \"CSE\"):\n",
        "        self.name = name\n",
        "        self.id = id\n",
        "        self.dept = dept\n",
        "    def dailyEffort(self, hour):\n",
        "        self.hour = hour\n",
        "    def printDetails(self):\n",
        "        print(f\"Name: {self.name}\")\n",
        "        print(f\"ID: {self.id}\")\n",
        "        print(f\"Department: {self.dept}\")\n",
        "        print(f\"Daily Effort: {self.hour} hour(s)\")\n",
        "        if self.hour <= 2:\n",
        "            print(\"Suggestion: Should give more effort!\")\n",
        "        elif self.hour <= 4:\n",
        "            print(\"Suggestion: Keep up the good work!\")\n",
        "        else:\n",
        "            print(\"Suggestion: Excellent! Now motivate others.\")\n",
        "\n",
        "\n",
        "harry = Student('Harry Potter', 123)\n",
        "harry.dailyEffort(3)\n",
        "harry.printDetails()\n",
        "print('========================')\n",
        "john = Student(\"John Wick\", 456, \"BBA\")\n",
        "john.dailyEffort(2)\n",
        "john.printDetails()\n",
        "print('========================')\n",
        "naruto = Student(\"Naruto Uzumaki\", 777, \"Ninja\")\n",
        "naruto.dailyEffort(6)\n",
        "naruto.printDetails()"
      ],
      "metadata": {
        "colab": {
          "base_uri": "https://localhost:8080/"
        },
        "id": "6r8a2ZwkMMSj",
        "outputId": "2d6e9afd-57db-4066-97ca-1d5c2b00fe9f"
      },
      "execution_count": null,
      "outputs": [
        {
          "output_type": "stream",
          "name": "stdout",
          "text": [
            "Name: Harry Potter\n",
            "ID: 123\n",
            "Department: CSE\n",
            "Daily Effort: 3 hour(s)\n",
            "Suggestion: Keep up the good work!\n",
            "========================\n",
            "Name: John Wick\n",
            "ID: 456\n",
            "Department: BBA\n",
            "Daily Effort: 2 hour(s)\n",
            "Suggestion: Should give more effort!\n",
            "========================\n",
            "Name: Naruto Uzumaki\n",
            "ID: 777\n",
            "Department: Ninja\n",
            "Daily Effort: 6 hour(s)\n",
            "Suggestion: Excellent! Now motivate others.\n"
          ]
        }
      ]
    },
    {
      "cell_type": "code",
      "source": [
        "#Task6\n",
        "\n",
        "class Patient:\n",
        "    def __init__(self, name, age):\n",
        "        self.name = name\n",
        "        self.age = age\n",
        "    def add_Symptom(self, *sympt):\n",
        "        if len(sympt) == 1:\n",
        "            r = (f\"Symptoms: {sympt[0]}\")\n",
        "        elif len(sympt) == 2:\n",
        "            r = (f\"Symptoms: {sympt[0]}, {sympt[1]}\")\n",
        "        elif len(sympt) == 3:\n",
        "            r = (f\"Symptoms: {sympt[0]}, {sympt[1]}, {sympt[2]}\")\n",
        "        self.r = r\n",
        "    def printPatientDetail(self):\n",
        "        print(f\"Name: {self.name}\")\n",
        "        print(f\"Age: {self.age}\")\n",
        "        print(f\"{self.r}\")\n",
        "\n",
        "p1 = Patient(\"Thomas\", 23)\n",
        "p1.add_Symptom(\"Headache\")\n",
        "p2 = Patient(\"Carol\", 20)\n",
        "p2.add_Symptom(\"Vomiting\", \"Coughing\")\n",
        "p3 = Patient(\"Mike\", 25)\n",
        "p3.add_Symptom(\"Fever\", \"Headache\", \"Coughing\")\n",
        "print(\"=========================\")\n",
        "p1.printPatientDetail()\n",
        "print(\"=========================\")\n",
        "p2.printPatientDetail()\n",
        "print(\"=========================\")\n",
        "p3.printPatientDetail()"
      ],
      "metadata": {
        "colab": {
          "base_uri": "https://localhost:8080/"
        },
        "id": "xi93_tr9HJKe",
        "outputId": "6f757c83-ac89-470b-adf7-2e5bf116d573"
      },
      "execution_count": null,
      "outputs": [
        {
          "output_type": "stream",
          "name": "stdout",
          "text": [
            "=========================\n",
            "Name: Thomas\n",
            "Age: 23\n",
            "Symptoms: Headache\n",
            "=========================\n",
            "Name: Carol\n",
            "Age: 20\n",
            "Symptoms: Vomiting, Coughing\n",
            "=========================\n",
            "Name: Mike\n",
            "Age: 25\n",
            "Symptoms: Fever, Headache, Coughing\n"
          ]
        }
      ]
    },
    {
      "cell_type": "code",
      "source": [
        "#Task6\n",
        "\n",
        "class Patient:\n",
        "    def __init__(self, name, age):\n",
        "        self.name = name\n",
        "        self.age = age\n",
        "    def add_Symptom(self, *sympt):\n",
        "        self.sympt = \"\"\n",
        "        for i in sympt:\n",
        "            self.sympt += i + \", \"\n",
        "    def printPatientDetail(self):\n",
        "        print(f\"Name: {self.name}\")\n",
        "        print(f\"Age: {self.age}\")\n",
        "        print(f\"Symptoms: {self.sympt[:-2]}\")\n",
        "\n",
        "p1 = Patient(\"Thomas\", 23)\n",
        "p1.add_Symptom(\"Headache\")\n",
        "p2 = Patient(\"Carol\", 20)\n",
        "p2.add_Symptom(\"Vomiting\", \"Coughing\")\n",
        "p3 = Patient(\"Mike\", 25)\n",
        "p3.add_Symptom(\"Fever\", \"Headache\", \"Coughing\")\n",
        "print(\"=========================\")\n",
        "p1.printPatientDetail()\n",
        "print(\"=========================\")\n",
        "p2.printPatientDetail()\n",
        "print(\"=========================\")\n",
        "p3.printPatientDetail()"
      ],
      "metadata": {
        "colab": {
          "base_uri": "https://localhost:8080/"
        },
        "id": "5rEp_Rm3S-fm",
        "outputId": "46e653c2-bc71-437f-df07-d67987d3ab79"
      },
      "execution_count": null,
      "outputs": [
        {
          "output_type": "stream",
          "name": "stdout",
          "text": [
            "=========================\n",
            "Name: Thomas\n",
            "Age: 23\n",
            "Symptoms: Headache\n",
            "=========================\n",
            "Name: Carol\n",
            "Age: 20\n",
            "Symptoms: Vomiting, Coughing\n",
            "=========================\n",
            "Name: Mike\n",
            "Age: 25\n",
            "Symptoms: Fever, Headache, Coughing\n"
          ]
        }
      ]
    },
    {
      "cell_type": "code",
      "source": [
        "#Task7\n",
        "\n",
        "class Match:\n",
        "    def __init__(self, team):\n",
        "        self.team = team.split(\"-\")\n",
        "        self.batting = self.team[0]\n",
        "        self.bowling = self.team[1]\n",
        "        self.wicket = 0\n",
        "        self.run = 0\n",
        "        self.over = 0\n",
        "        print(\"5..4..3..2..1.. Play !!!\")\n",
        "    def add_run(self, run):\n",
        "        self.run += run\n",
        "    def add_over(self, over):\n",
        "        if over >= 5:\n",
        "            print(f\"Warning! Cannot add {over} over/s ({over} over match)\")\n",
        "        else:\n",
        "            self.over += over\n",
        "    def add_wicket(self, wicket):\n",
        "        self.wicket += wicket\n",
        "    def print_scoreboard(self):\n",
        "        return (f\"Batting Team: {self.batting}\\nBowling Team: {self.bowling}\\nTotal Runs: {self.run} Wickets: {self.wicket} Overs: {self.over}\")\n",
        "\n",
        "\n",
        "\n",
        "match1 = Match(\"Rangpur Riders-Cumilla Victorians\")\n",
        "print(\"=========================\")\n",
        "match1.add_run(4)\n",
        "match1.add_run(6)\n",
        "match1.add_over(1)\n",
        "print(match1.print_scoreboard())\n",
        "print(\"=========================\")\n",
        "match1.add_over(5)\n",
        "print(\"=========================\")\n",
        "match1.add_wicket(1)\n",
        "print(match1.print_scoreboard())\n"
      ],
      "metadata": {
        "colab": {
          "base_uri": "https://localhost:8080/"
        },
        "id": "WGa-_l1Ob4cM",
        "outputId": "a1412039-444f-4df7-abcf-013b5fe6658d"
      },
      "execution_count": null,
      "outputs": [
        {
          "output_type": "stream",
          "name": "stdout",
          "text": [
            "5..4..3..2..1.. Play !!!\n",
            "=========================\n",
            "Batting Team: Rangpur Riders\n",
            "Bowling Team: Cumilla Victorians\n",
            "Total Runs: 10 Wickets: 0 Overs: 1\n",
            "=========================\n",
            "Warning! Cannot add 5 over/s (5 over match)\n",
            "=========================\n",
            "Batting Team: Rangpur Riders\n",
            "Bowling Team: Cumilla Victorians\n",
            "Total Runs: 10 Wickets: 1 Overs: 1\n"
          ]
        }
      ]
    },
    {
      "cell_type": "code",
      "source": [
        "#Task8\n",
        "\n",
        "class ParcelKoro:\n",
        "    def __init__(self, name = \"No name set\", product_weight = 0):\n",
        "        self.name = name\n",
        "        self.product_weight = product_weight\n",
        "    def calculateFee(self, location = None):\n",
        "        self.location = location\n",
        "        if self.location == None:\n",
        "            self.location_charge = 50\n",
        "        else:\n",
        "            self.location_charge = 100\n",
        "        if self.product_weight == 0:\n",
        "            self.total_fee = 0\n",
        "        else:\n",
        "            self.total_fee = (self.product_weight * 20) + self.location_charge\n",
        "    def printDetails(self):\n",
        "        print(f\"Customer Name: {self.name}\")\n",
        "        print(f\"Product Weight: {self.product_weight}\")\n",
        "        print(f\"Total fee: {self.total_fee}\")\n",
        "\n",
        "print(\"**********************\")\n",
        "p1 = ParcelKoro()\n",
        "p1.calculateFee()\n",
        "p1.printDetails()\n",
        "print(\"**********************\")\n",
        "p2 = ParcelKoro('Bob The Builder')\n",
        "p2.calculateFee()\n",
        "p2.printDetails()\n",
        "print(\"----------------------------\")\n",
        "p2.product_weight = 15\n",
        "p2.calculateFee()\n",
        "p2.printDetails()\n",
        "print(\"**********************\")\n",
        "p3 = ParcelKoro('Dora The Explorer', 10)\n",
        "p3.calculateFee('Dhanmondi')\n",
        "p3.printDetails()"
      ],
      "metadata": {
        "colab": {
          "base_uri": "https://localhost:8080/"
        },
        "id": "UZR8PmBpd-9t",
        "outputId": "0b974011-f238-4220-c97a-a8f96b2b220d"
      },
      "execution_count": null,
      "outputs": [
        {
          "output_type": "stream",
          "name": "stdout",
          "text": [
            "**********************\n",
            "Customer Name: No name set\n",
            "Product Weight: 0\n",
            "Total fee: 0\n",
            "**********************\n",
            "Customer Name: Bob The Builder\n",
            "Product Weight: 0\n",
            "Total fee: 0\n",
            "----------------------------\n",
            "Customer Name: Bob The Builder\n",
            "Product Weight: 15\n",
            "Total fee: 350\n",
            "**********************\n",
            "Customer Name: Dora The Explorer\n",
            "Product Weight: 10\n",
            "Total fee: 300\n"
          ]
        }
      ]
    },
    {
      "cell_type": "code",
      "source": [
        "#Task9\n",
        "\n",
        "class Batsman:\n",
        "    def __init__(self, *args):\n",
        "        if len(args) == 2:\n",
        "            self.name = \"New Batsman\"\n",
        "            self.run = args[0]\n",
        "            self.ball = args[1]\n",
        "        elif len(args) == 3:\n",
        "            self.name = args[0]\n",
        "            self.run = args[1]\n",
        "            self.ball = args[2]\n",
        "    def printCareerStatistics(self):\n",
        "        print(f\"Name: {self.name}\")\n",
        "        print(f\"Runs Scored: {self.run}, Balls Faced: {self.ball}\")\n",
        "    def setName(self, name):\n",
        "        self.name = name\n",
        "    def battingStrikeRate(self):\n",
        "        self.rate = self.run / self.ball * 100\n",
        "        return self.rate\n",
        "\n",
        "b1 = Batsman(6101, 7380)\n",
        "b1.printCareerStatistics()\n",
        "print(\"============================\")\n",
        "b2 = Batsman(\"Liton Das\", 678, 773)\n",
        "b2.printCareerStatistics()\n",
        "print(\"----------------------------\")\n",
        "print(b2.battingStrikeRate())\n",
        "print(\"============================\")\n",
        "b1.setName(\"Shakib Al Hasan\")\n",
        "b1.printCareerStatistics()\n",
        "print(\"----------------------------\")\n",
        "print(b1.battingStrikeRate())\n"
      ],
      "metadata": {
        "colab": {
          "base_uri": "https://localhost:8080/"
        },
        "id": "MGRQJ1S-nZ74",
        "outputId": "bdf780ed-7b4c-4d0f-9710-5948e9455211"
      },
      "execution_count": null,
      "outputs": [
        {
          "output_type": "stream",
          "name": "stdout",
          "text": [
            "Name: New Batsman\n",
            "Runs Scored: 6101, Balls Faced: 7380\n",
            "============================\n",
            "Name: Liton Das\n",
            "Runs Scored: 678, Balls Faced: 773\n",
            "----------------------------\n",
            "87.71021992238033\n",
            "============================\n",
            "Name: Shakib Al Hasan\n",
            "Runs Scored: 6101, Balls Faced: 7380\n",
            "----------------------------\n",
            "82.66937669376694\n"
          ]
        }
      ]
    },
    {
      "cell_type": "code",
      "source": [
        "#Task10\n",
        "\n",
        "class EPL_Team:\n",
        "    def __init__(self, name, song = None):\n",
        "        self.name = name\n",
        "        self.song = song\n",
        "        self.title = 0\n",
        "    def showClubInfo(self):\n",
        "        return (f\"Name: {self.name}\\nSong: {self.song}\\nTotal No of title: {self.title}\")\n",
        "    def increaseTitle(self):\n",
        "        self.title += 1\n",
        "    def changeSong(self, song = \"No Slogan\"):\n",
        "        self.song = song\n",
        "\n",
        "manu = EPL_Team('Manchester United', 'Glory Glory Man United')\n",
        "chelsea = EPL_Team('Chelsea')\n",
        "print('===================')\n",
        "print(manu.showClubInfo())\n",
        "print('##################')\n",
        "manu.increaseTitle()\n",
        "print(manu.showClubInfo())\n",
        "print('===================')\n",
        "print(chelsea.showClubInfo())\n",
        "chelsea.changeSong('Keep the blue flag flying high')\n",
        "print(chelsea.showClubInfo())"
      ],
      "metadata": {
        "colab": {
          "base_uri": "https://localhost:8080/"
        },
        "id": "vHYj5hMn4Gv5",
        "outputId": "bec86792-2b21-4ba2-abaf-1064a8618a69"
      },
      "execution_count": null,
      "outputs": [
        {
          "output_type": "stream",
          "name": "stdout",
          "text": [
            "===================\n",
            "Name: Manchester United\n",
            "Song: Glory Glory Man United\n",
            "Total No of title: 0\n",
            "##################\n",
            "Name: Manchester United\n",
            "Song: Glory Glory Man United\n",
            "Total No of title: 1\n",
            "===================\n",
            "Name: Chelsea\n",
            "Song: None\n",
            "Total No of title: 0\n",
            "Name: Chelsea\n",
            "Song: Keep the blue flag flying high\n",
            "Total No of title: 0\n"
          ]
        }
      ]
    },
    {
      "cell_type": "code",
      "source": [
        "#Task11\n",
        "\n",
        "class Author:\n",
        "    def __init__(self, name=None, *book):\n",
        "        self.name = name\n",
        "        if name == None:\n",
        "            self.name = \"Default\"\n",
        "        books = \"\"\n",
        "        if len(book) > 0:\n",
        "            for i in book:\n",
        "                books += i + \"\\n\"\n",
        "            self.book = books\n",
        "    def changeName(self, new_name):\n",
        "        self.name = new_name\n",
        "    def addBooks(self, *book):\n",
        "        books = \"\"\n",
        "        for i in book:\n",
        "            books += i + \"\\n\"\n",
        "        self.book = books\n",
        "    def printDetails(self):\n",
        "        print(f\"Author Name: {self.name}\")\n",
        "        print(\"------------\")\n",
        "        print(f\"List of Books:\")\n",
        "        print(self.book)\n",
        "\n",
        "auth1 = Author('Humayun Ahmed')\n",
        "auth1.addBooks('Deyal', 'Megher Opor Bari')\n",
        "auth1.printDetails()\n",
        "print(\"===================\")\n",
        "auth2 = Author()\n",
        "print(auth2.name)\n",
        "auth2.changeName('Mario Puzo')\n",
        "auth2.addBooks('The Godfather', 'Omerta', 'The Sicilian')\n",
        "print(\"===================\")\n",
        "auth2.printDetails()\n",
        "print(\"===================\")\n",
        "auth3 = Author('Paolo Coelho', 'The Alchemist', 'The Fifth Mountain')\n",
        "auth3.printDetails()"
      ],
      "metadata": {
        "colab": {
          "base_uri": "https://localhost:8080/"
        },
        "id": "joM4y5i9A1mL",
        "outputId": "625e99d7-a3e4-4c34-dcb3-cf4873cbc7d7"
      },
      "execution_count": null,
      "outputs": [
        {
          "output_type": "stream",
          "name": "stdout",
          "text": [
            "Author Name: Humayun Ahmed\n",
            "------------\n",
            "List of Books:\n",
            "Deyal\n",
            "Megher Opor Bari\n",
            "\n",
            "===================\n",
            "Default\n",
            "===================\n",
            "Author Name: Mario Puzo\n",
            "------------\n",
            "List of Books:\n",
            "The Godfather\n",
            "Omerta\n",
            "The Sicilian\n",
            "\n",
            "===================\n",
            "Author Name: Paolo Coelho\n",
            "------------\n",
            "List of Books:\n",
            "The Alchemist\n",
            "The Fifth Mountain\n",
            "\n"
          ]
        }
      ]
    },
    {
      "cell_type": "code",
      "source": [
        "#Task11\n",
        "\n",
        "class Author:\n",
        "    def __init__(self, *info):\n",
        "        if len(info) == 0:\n",
        "            self.name = 'Default'\n",
        "            self.books = []\n",
        "        elif len(info) == 1:\n",
        "            self.name = info[0]\n",
        "            self.books =[]\n",
        "        else:\n",
        "            self.name = info[0]\n",
        "            self.books = [info[1], info[2]]\n",
        "    def addBooks(self, *books):\n",
        "        books = list(books)\n",
        "        self.books.extend(books)\n",
        "    def changeName(self, changedname):\n",
        "        self.name = changedname\n",
        "    def printDetails(self):\n",
        "        print('Author Name: ', self.name)\n",
        "        print('-------')\n",
        "        print('List of Books: ')\n",
        "        booklist = '\\n'. join(self.books)\n",
        "        print(booklist)\n",
        "\n",
        "auth1 = Author('Humayun Ahmed')\n",
        "auth1.addBooks('Deyal', 'Megher Opor Bari')\n",
        "auth1.printDetails()\n",
        "print(\"===================\")\n",
        "auth2 = Author()\n",
        "print(auth2.name)\n",
        "auth2.changeName('Mario Puzo')\n",
        "auth2.addBooks('The Godfather', 'Omerta', 'The Sicilian')\n",
        "print(\"===================\")\n",
        "auth2.printDetails()\n",
        "print(\"===================\")\n",
        "auth3 = Author('Paolo Coelho', 'The Alchemist', 'The Fifth Mountain')\n",
        "auth3.printDetails()"
      ],
      "metadata": {
        "colab": {
          "base_uri": "https://localhost:8080/"
        },
        "id": "xA7oBNvjcWWj",
        "outputId": "af75b71b-e29e-4ba7-9cdc-39e9f255760d"
      },
      "execution_count": null,
      "outputs": [
        {
          "output_type": "stream",
          "name": "stdout",
          "text": [
            "Author Name:  Humayun Ahmed\n",
            "-------\n",
            "List of Books: \n",
            "Deyal\n",
            "Megher Opor Bari\n",
            "===================\n",
            "Default\n",
            "===================\n",
            "Author Name:  Mario Puzo\n",
            "-------\n",
            "List of Books: \n",
            "The Godfather\n",
            "Omerta\n",
            "The Sicilian\n",
            "===================\n",
            "Author Name:  Paolo Coelho\n",
            "-------\n",
            "List of Books: \n",
            "The Alchemist\n",
            "The Fifth Mountain\n"
          ]
        }
      ]
    },
    {
      "cell_type": "code",
      "source": [
        "#Task12\n",
        "\n",
        "class TaxiLagbe:\n",
        "    def __init__(self, number, area):\n",
        "        self.number = number\n",
        "        self.area = area\n",
        "        self.space = []\n",
        "        self.taka = 0\n",
        "    def addPassenger(self, *passanger):\n",
        "        for m in passanger:\n",
        "            lis = m.split(\"_\")\n",
        "            if len(self.space) <= 3:\n",
        "                self.space.append(lis[0])\n",
        "                self.taka += int(lis[1])\n",
        "                print(f\"Dear {lis[0]}! Welcome to TaxiLagbe.\")\n",
        "            else:\n",
        "                print(\"Taxi Full! No more passengers can be added.\")\n",
        "    def printDetails(self):\n",
        "        print(f\"Trip info for Taxi number: {self.number}\")\n",
        "        print(f\"This taxi can cover only {self.area} area.\")\n",
        "        print(f\"Total passengers: {len(self.space)}\")\n",
        "        print(\"Passenger lists:\")\n",
        "        string = \"\"\n",
        "        for n in self.space:\n",
        "            string += n + \", \"\n",
        "        print(string[:-1])\n",
        "        print(f\"Total collected fare: {self.taka} Taka\")\n",
        "\n",
        "taxi1 = TaxiLagbe('1010-01', 'Dhaka')\n",
        "print('-------------------------------')\n",
        "taxi1.addPassenger('Walker_100', 'Wood_200')\n",
        "taxi1.addPassenger('Matt_100')\n",
        "taxi1.addPassenger('Wilson_105')\n",
        "print('-------------------------------')\n",
        "taxi1.printDetails()\n",
        "print('-------------------------------')\n",
        "taxi1.addPassenger('Karen_200')\n",
        "print('-------------------------------')\n",
        "taxi1.printDetails()\n",
        "print('-------------------------------')\n",
        "taxi2 = TaxiLagbe('1010-02', 'Khulna')\n",
        "taxi2.addPassenger('Ronald_115')\n",
        "taxi2.addPassenger('Parker_215')\n",
        "print('-------------------------------')\n",
        "taxi2.printDetails()"
      ],
      "metadata": {
        "colab": {
          "base_uri": "https://localhost:8080/"
        },
        "id": "ksIZ4qtajEsV",
        "outputId": "68c0685f-c2ba-4d3a-e732-30a251042089"
      },
      "execution_count": null,
      "outputs": [
        {
          "output_type": "stream",
          "name": "stdout",
          "text": [
            "-------------------------------\n",
            "Dear Walker! Welcome to TaxiLagbe.\n",
            "Dear Wood! Welcome to TaxiLagbe.\n",
            "Dear Matt! Welcome to TaxiLagbe.\n",
            "Dear Wilson! Welcome to TaxiLagbe.\n",
            "-------------------------------\n",
            "Trip info for Taxi number: 1010-01\n",
            "This taxi can cover only Dhaka area.\n",
            "Total passengers: 4\n",
            "Passenger lists:\n",
            "Walker, Wood, Matt, Wilson,\n",
            "Total collected fare: 505 Taka\n",
            "-------------------------------\n",
            "Taxi Full! No more passengers can be added.\n",
            "-------------------------------\n",
            "Trip info for Taxi number: 1010-01\n",
            "This taxi can cover only Dhaka area.\n",
            "Total passengers: 4\n",
            "Passenger lists:\n",
            "Walker, Wood, Matt, Wilson,\n",
            "Total collected fare: 505 Taka\n",
            "-------------------------------\n",
            "Dear Ronald! Welcome to TaxiLagbe.\n",
            "Dear Parker! Welcome to TaxiLagbe.\n",
            "-------------------------------\n",
            "Trip info for Taxi number: 1010-02\n",
            "This taxi can cover only Khulna area.\n",
            "Total passengers: 2\n",
            "Passenger lists:\n",
            "Ronald, Parker,\n",
            "Total collected fare: 330 Taka\n"
          ]
        }
      ]
    },
    {
      "cell_type": "code",
      "source": [
        "#Task13\n",
        "\n",
        "class Account:\n",
        "    def __init__(self, name=None, balance=None):\n",
        "        self.name = name\n",
        "        self.balance = balance\n",
        "        if self.name == None:\n",
        "            self.name = \"Default Account\"\n",
        "        if self.balance == None:\n",
        "            self.balance = 0.0\n",
        "    def withdraw(self, amount):\n",
        "        new = self.balance - amount\n",
        "        if new < 3071.0:\n",
        "            print(\"Sorry, Withdraw unsuccessful! The account balance after deducting withdraw amount is equal to or less than minimum.\")\n",
        "        else:\n",
        "            print(f\"Withdraw successful! New balance is: {new}\")\n",
        "    def details(self):\n",
        "        return f\"{self.name}\\n{self.balance:.1f}\"\n",
        "\n",
        "a1 = Account()\n",
        "print(a1.details())\n",
        "print(\"------------------------\")\n",
        "a1.name = \"Oliver\"\n",
        "a1.balance = 10000.0\n",
        "print(a1.details())\n",
        "print(\"------------------------\")\n",
        "a2 = Account(\"Liam\")\n",
        "print(a2.details())\n",
        "print(\"------------------------\")\n",
        "a3 = Account(\"Noah\",400)\n",
        "print(a3.details())\n",
        "print(\"------------------------\")\n",
        "a1.withdraw(6930)\n",
        "print(\"------------------------\")\n",
        "a2.withdraw(600)\n",
        "print(\"------------------------\")\n",
        "a1.withdraw(6929)\n"
      ],
      "metadata": {
        "colab": {
          "base_uri": "https://localhost:8080/"
        },
        "id": "p3GxS-jLk7iH",
        "outputId": "6754ce16-363c-4725-fbeb-1bac37a2e23d"
      },
      "execution_count": null,
      "outputs": [
        {
          "output_type": "stream",
          "name": "stdout",
          "text": [
            "Default Account\n",
            "0.0\n",
            "------------------------\n",
            "Oliver\n",
            "10000.0\n",
            "------------------------\n",
            "Liam\n",
            "0.0\n",
            "------------------------\n",
            "Noah\n",
            "400.0\n",
            "------------------------\n",
            "Sorry, Withdraw unsuccessful! The account balance after deducting withdraw amount is equal to or less than minimum.\n",
            "------------------------\n",
            "Sorry, Withdraw unsuccessful! The account balance after deducting withdraw amount is equal to or less than minimum.\n",
            "------------------------\n",
            "Withdraw successful! New balance is: 3071.0\n"
          ]
        }
      ]
    },
    {
      "cell_type": "code",
      "source": [
        "#Task14\n",
        "\n",
        "class StudentDatabase:\n",
        "    def __init__(self, name, id):\n",
        "        self.name = name\n",
        "        self.id = id\n",
        "        self.grades = {}\n",
        "    def calculateGPA(self, lis, session):\n",
        "        course = ()\n",
        "        cgpa = 0\n",
        "        for i in lis:\n",
        "            m = i.split(\": \")\n",
        "            course += (m[0],)\n",
        "            cgpa = float(m[1])\n",
        "        self.grades[session] = {course: round(cgpa/len(course), 2)}\n",
        "    def printDetails(self):\n",
        "        print(f\"Name: {self.name}\\nID: {self.id}\")\n",
        "        for j,k in self.grades.items():\n",
        "            print(f\"Courses taken in {j}: \")\n",
        "            for i,n in k.items():\n",
        "                for p in i:\n",
        "                    print(p)\n",
        "                print(f\"GPA: {n}\")\n",
        "\n",
        "s1 = StudentDatabase('Pietro', '10101222')\n",
        "s1.calculateGPA(['CSE230: 4.0', 'CSE220: 4.0', 'MAT110: 4.0'], 'Summer2020')\n",
        "s1.calculateGPA(['CSE250: 3.7', 'CSE330: 4.0'], 'Summer2021')\n",
        "print(f'Grades for {s1.name}\\n{s1.grades}')\n",
        "print('------------------------------------------------------')\n",
        "s1.printDetails()\n",
        "s2 = StudentDatabase('Wanda', '10103332')\n",
        "s2.calculateGPA(['CSE111: 3.7', 'CSE260: 3.7', 'ENG101: 4.0'], 'Summer2022')\n",
        "print('------------------------------------------------------')\n",
        "print(f'Grades for {s2.name}\\n{s2.grades}')\n",
        "print('------------------------------------------------------')\n",
        "s2.printDetails()"
      ],
      "metadata": {
        "colab": {
          "base_uri": "https://localhost:8080/"
        },
        "id": "Iim0q1UlFKst",
        "outputId": "b68a12f0-10e1-4d7b-a256-a82073496ab1"
      },
      "execution_count": null,
      "outputs": [
        {
          "output_type": "stream",
          "name": "stdout",
          "text": [
            "Grades for Pietro\n",
            "{'Summer2020': {('CSE230', 'CSE220', 'MAT110'): 1.33}, 'Summer2021': {('CSE250', 'CSE330'): 2.0}}\n",
            "------------------------------------------------------\n",
            "Name: Pietro\n",
            "ID: 10101222\n",
            "Courses taken in Summer2020: \n",
            "CSE230\n",
            "CSE220\n",
            "MAT110\n",
            "GPA: 1.33\n",
            "Courses taken in Summer2021: \n",
            "CSE250\n",
            "CSE330\n",
            "GPA: 2.0\n",
            "------------------------------------------------------\n",
            "Grades for Wanda\n",
            "{'Summer2022': {('CSE111', 'CSE260', 'ENG101'): 1.33}}\n",
            "------------------------------------------------------\n",
            "Name: Wanda\n",
            "ID: 10103332\n",
            "Courses taken in Summer2022: \n",
            "CSE111\n",
            "CSE260\n",
            "ENG101\n",
            "GPA: 1.33\n"
          ]
        }
      ]
    },
    {
      "cell_type": "code",
      "source": [
        "#Task15\n",
        "\n",
        "class FinalT6A:\n",
        "    def __init__(self, x, p):\n",
        "        self.temp, self.sum, self.y = 4, 0, 1\n",
        "        self.temp += 1\n",
        "        self.y = self.temp - p\n",
        "        self.sum = self.temp + x\n",
        "        print(x, self.y, self.sum)\n",
        "    def methodA(self):\n",
        "        x = 0\n",
        "        y = 0\n",
        "        y = y + self.y\n",
        "        x = self.y + 2 + self.temp\n",
        "        self.sum = x + y + self.methodB(self.temp, y)\n",
        "        print(x, y, self.sum)\n",
        "    def methodB(self, temp, n):\n",
        "        x = 0\n",
        "        temp += 1\n",
        "        self.y = self.y + temp\n",
        "        x = x + 3 + n\n",
        "        self.sum = self.sum + x + self.y\n",
        "        print(x, self.y, self.sum)\n",
        "        return self.sum\n",
        "\n",
        "q1 = FinalT6A(2,1)\n",
        "q1.methodA()\n",
        "q1.methodA()"
      ],
      "metadata": {
        "colab": {
          "base_uri": "https://localhost:8080/"
        },
        "id": "EcfqdkjTET9p",
        "outputId": "7d7c1fd2-0948-4a1e-a376-f0793e3bb9ab"
      },
      "execution_count": null,
      "outputs": [
        {
          "output_type": "stream",
          "name": "stdout",
          "text": [
            "2 4 7\n",
            "7 10 24\n",
            "11 4 39\n",
            "13 16 68\n",
            "17 10 95\n"
          ]
        }
      ]
    },
    {
      "cell_type": "code",
      "source": [
        "#Task16\n",
        "\n",
        "class Quiz3A:\n",
        "    def __init__(self, k = None):\n",
        "        self.temp, self.sum, self.y = 4, 0, 0\n",
        "        if k != None:\n",
        "            self.temp += 1\n",
        "            self.temp = self.temp\n",
        "            self.sum = self.temp + k\n",
        "            self.y = self.sum - 1\n",
        "        else:\n",
        "            self.y = self.temp - 1\n",
        "            self.sum = self.temp + 1\n",
        "            self.temp += 2\n",
        "    def methodB(self, m, n):\n",
        "        x = 0\n",
        "        self.temp += 1\n",
        "        self.y = self.y + m + (self.temp)\n",
        "        x = x + 2 + n\n",
        "        self.sum = self.sum + x + self.y\n",
        "        print(x, self.y, self.sum)\n",
        "        return self.sum\n",
        "\n",
        "a1 = Quiz3A()\n",
        "a1.methodB(1,2)\n",
        "a2 = Quiz3A(3)\n",
        "a2.methodB(2,4)\n",
        "a1.methodB(2,1)\n",
        "a2.methodB(1,3)"
      ],
      "metadata": {
        "colab": {
          "base_uri": "https://localhost:8080/"
        },
        "id": "QQUZSJ22JNzR",
        "outputId": "aeef38b8-fc37-4596-c1e3-cc928e6add7a"
      },
      "execution_count": null,
      "outputs": [
        {
          "output_type": "stream",
          "name": "stdout",
          "text": [
            "4 11 20\n",
            "6 15 29\n",
            "3 21 44\n",
            "5 23 57\n"
          ]
        },
        {
          "output_type": "execute_result",
          "data": {
            "text/plain": [
              "57"
            ]
          },
          "metadata": {},
          "execution_count": 2
        }
      ]
    },
    {
      "cell_type": "code",
      "source": [
        "#Task17\n",
        "\n",
        "class Test5:\n",
        "  def __init__(self):\n",
        "      self.sum = 0\n",
        "      self.y = 0\n",
        "  def methodA(self):\n",
        "      x=y=k=0\n",
        "      msg = [5]\n",
        "      while (k < 2):\n",
        "          y += msg[0]\n",
        "          x = y + self.methodB(msg, k)\n",
        "          self.sum = x + y + msg[0]\n",
        "          print(x ,\" \" , y, \" \" , self.sum)\n",
        "          k+=1\n",
        "  def methodB(self, mg2, mg1):\n",
        "        x = 0\n",
        "        self.y += mg2[0]\n",
        "        x = x + 3 + mg1\n",
        "        self.sum += x + self.y\n",
        "        mg2[0] = self.y + mg1\n",
        "        mg1 += x + 2\n",
        "        print(x , \" \" ,self.y, \" \" , self.sum)\n",
        "        return mg1\n",
        "\n",
        "t1 = Test5()\n",
        "t1.methodA()\n",
        "t1.methodA()\n",
        "t1.methodA()"
      ],
      "metadata": {
        "id": "tZdM4RIjM2GP",
        "colab": {
          "base_uri": "https://localhost:8080/"
        },
        "outputId": "d921215b-5418-4d3b-bd0b-b637ad9d4940"
      },
      "execution_count": null,
      "outputs": [
        {
          "output_type": "stream",
          "name": "stdout",
          "text": [
            "3   5   8\n",
            "10   5   20\n",
            "4   10   34\n",
            "17   10   38\n",
            "3   15   56\n",
            "10   5   30\n",
            "4   30   64\n",
            "27   20   78\n",
            "3   35   116\n",
            "10   5   50\n",
            "4   70   124\n",
            "47   40   158\n"
          ]
        }
      ]
    },
    {
      "cell_type": "code",
      "source": [
        "#Task18\n",
        "\n",
        "class Test4:\n",
        "    def __init__(self):\n",
        "        self.sum, self.y = 0, 0\n",
        "    def methodA(self):\n",
        "        x, y = 0, 0\n",
        "        msg = [0]\n",
        "        msg[0] = 5\n",
        "        y = y + self.methodB(msg[0])\n",
        "        x = y + self.methodB(msg, msg[0])\n",
        "        self.sum = x + y + msg[0]\n",
        "        print(x, y, self.sum)\n",
        "    def methodB(self, *args):\n",
        "        if len(args) == 1:\n",
        "            mg1 = args[0]\n",
        "            x, y = 0, 0\n",
        "            y = y + mg1\n",
        "            x = x + 33 + mg1\n",
        "            self.sum = self.sum + x + y\n",
        "            self.y = mg1 + x + 2\n",
        "            print(x, y, self.sum)\n",
        "            return y\n",
        "        else:\n",
        "            mg2, mg1 = args\n",
        "            x = 0\n",
        "            self.y = self.y + mg2[0]\n",
        "            x = x + 33 + mg1\n",
        "            self.sum = self.sum + x + self.y\n",
        "            mg2[0] = self.y + mg1\n",
        "            mg1 = mg1 + x + 2\n",
        "            print(x, self.y, self.sum)\n",
        "            return self.sum\n",
        "\n",
        "t3 = Test4()\n",
        "t3.methodA()\n",
        "t3.methodA()\n",
        "t3.methodA()\n",
        "t3.methodA()"
      ],
      "metadata": {
        "colab": {
          "base_uri": "https://localhost:8080/"
        },
        "id": "-Vx4s1KVV2T_",
        "outputId": "2018ea96-1eea-419d-cf3f-2b48afebea39"
      },
      "execution_count": null,
      "outputs": [
        {
          "output_type": "stream",
          "name": "stdout",
          "text": [
            "38 5 43\n",
            "38 50 131\n",
            "136 5 196\n",
            "38 5 239\n",
            "38 50 327\n",
            "332 5 392\n",
            "38 5 435\n",
            "38 50 523\n",
            "528 5 588\n",
            "38 5 631\n",
            "38 50 719\n",
            "724 5 784\n"
          ]
        }
      ]
    },
    {
      "cell_type": "code",
      "source": [
        "#Task19\n",
        "\n",
        "class msgClass:\n",
        "    def __init__(self):\n",
        "        self.content = 0\n",
        "class Q5:\n",
        "    def __init__(self):\n",
        "        self.sum = 1\n",
        "        self.x = 2\n",
        "        self.y = 3\n",
        "    def methodA(self):\n",
        "        x, y = 1, 1\n",
        "        msg = []\n",
        "        myMsg = msgClass()\n",
        "        myMsg.content = self.x\n",
        "        msg.append(myMsg)\n",
        "        msg[0].content = self.y + myMsg.content\n",
        "        self.y = self.y + self.methodB(msg[0])\n",
        "        y = self.methodB(msg[0]) + self.y\n",
        "        x = y + self.methodB(msg[0], msg)\n",
        "        self.sum = x + y + msg[0].content\n",
        "        print(x,\" \", y,\" \", self.sum)\n",
        "    def methodB(self, mg1, mg2 = None):\n",
        "        if mg2 == None:\n",
        "            x, y = 5, 6\n",
        "            y = self.sum + mg1.content\n",
        "            self.y = y + mg1.content\n",
        "            x = self.x + 7 +mg1.content\n",
        "            self.sum = self.sum + x + y\n",
        "            self.x = mg1.content + x +8\n",
        "            print(x, \" \", y,\" \", self.sum)\n",
        "            return y\n",
        "        else:\n",
        "            x = 1\n",
        "            self.y += mg2[0].content\n",
        "            mg2[0].content = self.y + mg1.content\n",
        "            x = x + 4 + mg1.content\n",
        "            self.sum += x + self.y\n",
        "            mg1.content = self.sum - mg2[0].content\n",
        "            print(self.x, \" \",self.y,\" \", self.sum)\n",
        "            return self.sum\n",
        "\n",
        "q = Q5()\n",
        "q.methodA()"
      ],
      "metadata": {
        "colab": {
          "base_uri": "https://localhost:8080/"
        },
        "id": "7hDB7PfoLPsc",
        "outputId": "70e31a3b-bca6-44f6-ba37-297377f1c452"
      },
      "execution_count": null,
      "outputs": [
        {
          "output_type": "stream",
          "name": "stdout",
          "text": [
            "14   6   21\n",
            "39   26   86\n",
            "52   36   168\n",
            "225   57   409\n"
          ]
        }
      ]
    }
  ]
}